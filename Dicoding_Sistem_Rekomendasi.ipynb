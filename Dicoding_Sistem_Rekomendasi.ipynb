{
  "nbformat": 4,
  "nbformat_minor": 0,
  "metadata": {
    "colab": {
      "name": "Dicoding: Sistem Rekomendasi.ipynb",
      "provenance": [],
      "collapsed_sections": [],
      "toc_visible": true
    },
    "kernelspec": {
      "name": "python3",
      "display_name": "Python 3"
    },
    "language_info": {
      "name": "python"
    },
    "accelerator": "GPU"
  },
  "cells": [
    {
      "cell_type": "markdown",
      "metadata": {
        "id": "dijMqO2-ULpt"
      },
      "source": [
        "Nama: Zidni Iman Sholihati\n",
        "\n",
        "Dicoding profil: [URL](https://www.dicoding.com/users/amirah_zidni)\n",
        "\n",
        "Email: zidni.imani@gmail.com / m1821860@bangkit.academy\n"
      ]
    },
    {
      "cell_type": "markdown",
      "metadata": {
        "id": "jz1Q53hzUyj4"
      },
      "source": [
        "Kriteria submission:\n",
        "\n",
        "1. Project merupakan hasil pekerjaan sendiri. \n",
        "2. Project belum pernah digunakan untuk submission kelas Machine Learning di Dicoding dan belum pernah dipublikasikan di platform manapun.\n",
        "3. Dataset yang dipakai bebas, asal bisa digunakan untuk membuat sistem rekomendasi.\n",
        "4. Memberikan dokumentasi menggunakan text cell pada notebook (.ipynb) untuk menjelaskan setiap tahapan proyek seperti pada contoh berikut: contoh proyek dengan dokumentasi. \n",
        "5. Menentukan solusi permasalahan dengan memilih pendekatan berikut:\n",
        "  - Content-based Filtering\n",
        "  - Collaborative Filtering\n",
        "6. Membuat draf laporan proyek machine learning yang menjelaskan alur proyek Anda mulai dari project overview, business understanding, data understanding, data preparation, modeling, hingga tahap evaluasi. Ketentuan draf laporan proyek machine learning dapat Anda lihat pada sub modul berikutnya tentang Detail Laporan.\n",
        "\n",
        "Saran submission:\n",
        "* Menerapkan Rubrik/Kriteria Penilaian (Tambahan) untuk mendapatkan skala penilaian (bintang) yang lebih tinggi.\n",
        "\n",
        "\n",
        "\n"
      ]
    },
    {
      "cell_type": "markdown",
      "metadata": {
        "id": "M2Yyy1pJ_moy"
      },
      "source": [
        "# Project Overview\n",
        "Proyek *machine learning* ini akan membahas tentang **\"Sistem Rekomendasi Buku dengan Content Based Filtering dan Collaborative Filtering\"**.\n",
        "\n",
        "![banner](https://raw.githubusercontent.com/ZidniImani/recommender-system/main/images/banner.png?token=AQMCDSGER6CZT5SGRLZPXWDBQOMKI \"banner\")\n",
        "\n",
        "Membaca buku adalah salah satu kegiatan yang belum banyak peminatnya di Indonesia. Padahal membaca adalah jendela ilmu. Bahkan salah satu segmen pasar awal e-commerce Amazon adalah pasar buku sebelum akhirnya meluaskan target pasar ke segmen lainnya. Dalam e-commerce Amazon, tentunya terdapat sistem rekomendasi yang membantu pengunjung mencari buku agar pengunjung website tersebut membuat keputusan akhir yaitu membelinya [[1]](http://citeseerx.ist.psu.edu/viewdoc/download?doi=10.1.1.23.9764&rep=rep1&type=pdf). Sistem rekomendasi buku juga dapat membantu pembaca buku mengetahui informasi buku-buku yang akan dibaca selanjutnya sesuai dengan preferensi pengguna dari rekam jejak buku yang telah dibaca sebelumnya. Terjadi keuntungan dua pihak karena konsumen mendapatkan informasi yang diperlukan untuk membuat suatu keputusan sementara dari pemilik bisnis juga mendapatkan profit dari penjualan. Hal ini menjadikan sistem rekomendasi telah digunakan secara luas oleh hampir semua area bisnis. [[2]](https://ejournal.akprind.ac.id/index.php/technoscientia/article/view/612).\n",
        "\n",
        "Pada proyek machine learning ini, sistem rekomendasi yang akan dibuat memiliki fokus pada sistem rekomendasi buku karena di Indonesia sendiri masih diperlukan sebuah sistem yang dapat membantu merekomendasikan para pembaca agar lebih mudah mendapatkan informasi buku-buku yang akan dibaca selanjutnya. Hal ini didasarkan pada hasil survey kemampuan membaca oleh PISA tahun 2018 yang menghasilkan nilai skor membaca pelajar Indonesia yang masih sangat rendah [[3]](https://www.oecd.org/education/pisa-2018-results-volume-i-5f07c754-en.htm)."
      ]
    },
    {
      "cell_type": "markdown",
      "metadata": {
        "id": "6oeHrNK7AJBD"
      },
      "source": [
        "# Business Understanding\n",
        "Membaca adalah salah satu kegiatan mengumpulkan informasi serta memahami makna dari sebuah tulisan. Manfaat membaca diantaranya adalah meningkatkan kapasitas berpikir dan meningkatkan keterampilan menulis. Selain itu, membaca juga dapat menjadi kegiatan hiburan atau kegiatan yang mampu menenangkan pikiran karena sebuah bacaan dapat membawa pembacanya ke dunia imajinasi luas dalam konteks atau tema yang diangkat. Sehingga tak jarang apabila setelah membaca buku timbul keinginan untuk melanjutkan ke bacaan lainnya yang memiliki relasi atau kemiripan dengan bacaan sebelumnya.\n",
        "\n",
        "![journey](https://img.freepik.com/free-psd/every-book-is-new-wonderful-travel-quote-with-books_23-2148355614.jpg?size=626&ext=jpg)\n",
        "\n",
        "Keinginan ini membuat pembaca buku akan mencari preferensi buku bacaan selanjutnya yang serupa atau memiliki relasi terhadap buku yang telah dibaca. Relasi atau kesamaan tersebut dapat berupa kelanjutan isi buku atau kesamaan penulis buku. Harapannya adalah agar pembaca mendapatkan informasi lanjutan atau kesamaan sensasi membaca dari buku yang akan dibaca selanjutnya. Sistem rekomendasi dapat menjadikan salah satu solusi dari keperluan pembaca untuk mencari buku selanjutnya karena sistem rekomendasi mampu menghasilkan informasi-infomasi buku yang memiliki kemiripan dengan suatu preferensi tertentu. \n",
        "\n",
        "## Problem Statements\n",
        "\n",
        "Dari latar belakang di atas, dapat ditarik rumusan masalah sebagai berikut:\n",
        "1. Sistem rekomendasi apa yang baik untuk diterapkan dalam konteks pemberian rekomendasi buku?\n",
        "2. Bagaimana cara membuat sistem rekomendasi bagi pembaca buku?\n",
        "\n",
        "## Goals\n",
        "Tujuan proyek yang ingin dicapai adalah:\n",
        "1. Menentukan sistem rekomendasi buku yang hasilnya relevan dengan pembaca buku.\n",
        "2. Membuat sistem rekomendasi buku bagi pembaca buku.\n",
        "\n",
        "## Solution Approach\n",
        "Pendekatan solusi untuk mencapai *Goals* di atas dapat dijabarkan dalam langkah-langkah berikut:\n",
        "1. Mengunduh data tentang rekomendasi buku.\n",
        "\n",
        "    Data diunduh dari Kaggle dengan tautan berikut [Book Recommendation Dataset](https://www.kaggle.com/arashnic/book-recommendation-dataset).\n",
        "2. Melakukan pra-pemrosesan data.\n",
        "\n",
        "    Pra-pemrosesan data diperlukan agar data yang akan diumpankan pada model *machine learning* tidak memiliki bias atau mengalami kegagalan memprediksi rekomendasi. Pra-pemrosesan data pada proyek ini adalah:\n",
        "      - **Mengganti nama kolom** dengan nama yang bisa digunakan dalam pengolahan lanjutan yakni mengubah strip (-) dengan garis bawah (_).\n",
        "      - **Memperbaiki nilai** dari baris yang terdapat kesalahan ketik atau nilai abnormal.\n",
        "      - **Menghapus kolom yang tidak diperlukan** seperti kolom gambar.\n",
        "      - **Menghapus baris** yang memiliki nilai kosong.\n",
        "3. Melakukan persiapan data.\n",
        "\n",
        "    Persiapan data pada proyek ini dilakukan untuk mempersiapkan data sebelum digunakan untuk melatih model sistem rekomendasi. Persiapan data diantaranya adalah:\n",
        "      - **Menggabungkan data** berdasarkan nilai kolom kunci.\n",
        "      - **Menghapus baris** yang tidak memiliki nilai setelah digabungkan.\n",
        "      - **Mengelompokkan dan mengurutkan data** berdasarkan rating.\n",
        "      - **Mengambil sampel data** karena data ini terlalu besar dan menghabiskan banyak sumber daya RAM yang dapat menghasilkan *notebook crash* pada Google Colab proyek ini.\n",
        "4. Membangun sistem rekomendasi.\n",
        "\n",
        "    Sistem rekomendasi yang diajukan untuk menyelesaikan permasalahan ini adalah penggunaan dua algoritma *Content Based Filtering* dan *Collaborative Filtering*.\n",
        "    - **Content Based Filtering**. Dalam konteks penelitian ini dan berdasarkan sumber [[2]](https://ejournal.akprind.ac.id/index.php/technoscientia/article/view/612), algoritma *content based filtering* bekerja dengan mencari kedekatan suatu buku yang akan direkomendasikan dengan buku yang telah diambil oleh pembaca berdasarkan kemiripan antar isinya.\n",
        "        - Kelebihan:\n",
        "            - Hasil rekomendasi didasarkan pada preferensi buku.\n",
        "            - Sederhana dan transparan karena mudah dipahami bagaimana algoritma ini bekerja.\n",
        "        - Kelemahan:\n",
        "            - Pembaca buku tidak mendapatkan rekomendasi dari jenis buku yang berbeda.\n",
        "    - **Collaborative Filtering**. Algoritma *collaborative filtering* dalam konteks penelitian ini bekerja dengan mengumpulkan dan mengolah sejumlah besar informasi yang didasarkan pada aktifitas pembaca buku seperti pemberian nilai, penulis buku, atau preferensi lainnya. Informasi yang telah dikumpulkan dan diolah tersebut akan digunakan sebagai preferensi dengan pembaca buku lain dengan mencari kesamaannya.\n",
        "        - Kelebihan:\n",
        "            - Informasi tentang preferensi dapat ditambahkan secara mudah.\n",
        "            - Adanya rekam jejak preferensi memudahkan sistem rekomendasi bekerja lebih baik.\n",
        "        - Kelemahan:\n",
        "            - Kurang efektif terhadap pengguna yang belum memiliki data karena tidak terdapat informasi yang cukup.\n",
        "5. Melakukan evaluasi hasil sistem rekomendasi.\n",
        "\n",
        "    Tahap ini dilakukan untuk mengukur seberapa baik hasil sistem rekomendasi. Berdasarkan algoritma yang akan digunakan, evaluasi yang bisa diterapkan adalah nilai presisi >80% pada algoritma *content based filtering* dan nilai RMSE (*Root Mean Squared Error*) <10% skala data pada algoritma *collaborative filtering*."
      ]
    },
    {
      "cell_type": "markdown",
      "metadata": {
        "id": "UiCv92cLENpa"
      },
      "source": [
        "# Data Understanding\n",
        "Dataset proyek ini berasal dari platform Kaggle yang dipublikasi oleh Möbius dengan judul [Book Recommendation Dataset](https://www.kaggle.com/arashnic/book-recommendation-dataset). Berdasarkan metadata, dataset ini dikumpulkan oleh Cai-Nicolas Ziegler di tahun 2004 yang bersumber dari komunitas [bookcrossing](\n",
        "https://www.bookcrossing.com/howto). Terdapat tiga buah dataset yaitu Books.csv, Ratings.csv, dan Users.csv.\n",
        "\n",
        "Books.csv adalah data mengenai buku dengan 8 kolom dengan keterangan sebagai berikut:\n",
        "\n",
        "| Kolom               | Deskripsi                                                                                      |\n",
        "| --------------------| ---------------------------------------------------------------------------------------------- |\n",
        "| ISBN                | *International Standard Book Number* atau deretan 13 digit angka nomor identifikasi buku.      |\n",
        "| Book-Title          | Judul buku.                                                                                    |\n",
        "| Book-Author         | Penulis Buku.                                                                                  |\n",
        "| Year-Of-Publication | Tahun publikasi buku.                                                                          |\n",
        "| Publisher           | Penerbit buku.                                                                                 |\n",
        "| Image-URL-S         | Alamat URL cover buku ukuran kecil.                                                            |\n",
        "| Image-URL-M         | Alamat URL cover buku ukuran menengah.                                                         |\n",
        "| Image-URL-L         | Alamat URL cover buku ukuran besar.                                                            |\n",
        "\n",
        "\n",
        "Dalam dataset Ratings.csv yang berisi informasi peringkat buku terdapat 3 kolom dengan keterangan berikut:\n",
        "\n",
        "| Kolom               | Deskripsi                                                                                        |\n",
        "| --------------------| ------------------------------------------------------------------------------------------------ |\n",
        "| User-ID             | Nomor identifikasi *user* atau pemberi nilai buku.                                                    |\n",
        "| ISBN                | *International Standard Book Number* atau deretan 13 digit angka nomor identifikasi buku.        |\n",
        "| Book-Rating         | Nilai buku yang diberikan *user*. Berisi rentang nilai 0-10 (semakin tinggi semakin baik) sebagai penilaian eksplisit dan nilai 0 sebagai penilaian implisit.              |\n",
        "\n",
        "Terakhir, dalam dataset Users.csv yang berisi informasi tentang *user* atau pemberi nilai buku terdapat 3 kolom dengan keterangan berikut:\n",
        "\n",
        "| Kolom               | Deskripsi                                                                            |\n",
        "| --------------------| ------------------------------------------------------------------------------------ |\n",
        "| User-ID             | Nomor identifikasi *user* atau pemberi nilai buku.                                        |\n",
        "| Location            | Lokasi *user* (kota, negara bagian, dan negara). |\n",
        "| Age                 | Usia *user* atau pemberi nilai buku.                                                      |\n",
        "\n"
      ]
    },
    {
      "cell_type": "code",
      "metadata": {
        "id": "0A3LuAbU1D67"
      },
      "source": [
        "# Library pengolahan data\n",
        "import zipfile\n",
        "import pandas as pd\n",
        "import numpy as np\n",
        "from zipfile import ZipFile\n",
        "\n",
        "# Library visualisasi data\n",
        "import matplotlib.pyplot as plt\n",
        "import seaborn as sns\n",
        "\n",
        "# Library machine learning sistem rekomendasi\n",
        "import tensorflow as tf\n",
        "import sklearn\n",
        "from sklearn.feature_extraction.text import TfidfVectorizer\n",
        "from sklearn.metrics.pairwise import cosine_similarity\n",
        "from tensorflow import keras\n",
        "from tensorflow.keras import layers\n",
        "\n",
        "# Library evaluasi data\n",
        "from sklearn.metrics import mean_squared_error"
      ],
      "execution_count": 1,
      "outputs": []
    },
    {
      "cell_type": "markdown",
      "metadata": {
        "id": "ycsclFTtEssz"
      },
      "source": [
        "## 1) Mengambil Dataset"
      ]
    },
    {
      "cell_type": "code",
      "metadata": {
        "colab": {
          "base_uri": "https://localhost:8080/"
        },
        "id": "xeohVcXCSBIa",
        "outputId": "1445b774-322d-4150-ba06-f8952c0ec0aa"
      },
      "source": [
        "# Mengambil data kaggle\n",
        "!chmod 600 kaggle.json && (ls ~/.kaggle 2>/dev/null || mkdir ~/.kaggle) && mv kaggle.json ~/.kaggle/\n",
        "!kaggle datasets download arashnic/book-recommendation-dataset"
      ],
      "execution_count": 2,
      "outputs": [
        {
          "output_type": "stream",
          "name": "stdout",
          "text": [
            "chmod: cannot access 'kaggle.json': No such file or directory\n",
            "book-recommendation-dataset.zip: Skipping, found more recently modified local copy (use --force to force download)\n"
          ]
        }
      ]
    },
    {
      "cell_type": "code",
      "metadata": {
        "id": "GUcShLkpR9k6"
      },
      "source": [
        "# Unzip file\n",
        "zip_file = '/content/book-recommendation-dataset.zip'\n",
        "with zipfile.ZipFile(zip_file, 'r') as zip:\n",
        "  zip.extractall('/content')"
      ],
      "execution_count": 3,
      "outputs": []
    },
    {
      "cell_type": "markdown",
      "metadata": {
        "id": "iNF-3FObEx6Y"
      },
      "source": [
        "## 2) Exploratory Data Analysis"
      ]
    },
    {
      "cell_type": "markdown",
      "metadata": {
        "id": "NaozmYlTX3Hq"
      },
      "source": [
        "### Books"
      ]
    },
    {
      "cell_type": "code",
      "metadata": {
        "colab": {
          "base_uri": "https://localhost:8080/",
          "height": 496
        },
        "id": "vDPO-PDlSO7j",
        "outputId": "013626ff-bda3-43ff-8eac-97ddcb454646"
      },
      "source": [
        "# Load Books.csv ke df_buku\n",
        "url = '/content/Books.csv'\n",
        "df_buku = pd.read_csv(url)\n",
        "df_buku.sample(5)"
      ],
      "execution_count": 4,
      "outputs": [
        {
          "output_type": "stream",
          "name": "stderr",
          "text": [
            "/usr/local/lib/python3.7/dist-packages/IPython/core/interactiveshell.py:2718: DtypeWarning: Columns (3) have mixed types.Specify dtype option on import or set low_memory=False.\n",
            "  interactivity=interactivity, compiler=compiler, result=result)\n"
          ]
        },
        {
          "output_type": "execute_result",
          "data": {
            "text/html": [
              "<div>\n",
              "<style scoped>\n",
              "    .dataframe tbody tr th:only-of-type {\n",
              "        vertical-align: middle;\n",
              "    }\n",
              "\n",
              "    .dataframe tbody tr th {\n",
              "        vertical-align: top;\n",
              "    }\n",
              "\n",
              "    .dataframe thead th {\n",
              "        text-align: right;\n",
              "    }\n",
              "</style>\n",
              "<table border=\"1\" class=\"dataframe\">\n",
              "  <thead>\n",
              "    <tr style=\"text-align: right;\">\n",
              "      <th></th>\n",
              "      <th>ISBN</th>\n",
              "      <th>Book-Title</th>\n",
              "      <th>Book-Author</th>\n",
              "      <th>Year-Of-Publication</th>\n",
              "      <th>Publisher</th>\n",
              "      <th>Image-URL-S</th>\n",
              "      <th>Image-URL-M</th>\n",
              "      <th>Image-URL-L</th>\n",
              "    </tr>\n",
              "  </thead>\n",
              "  <tbody>\n",
              "    <tr>\n",
              "      <th>18957</th>\n",
              "      <td>0140055770</td>\n",
              "      <td>My Uncle Oswald</td>\n",
              "      <td>Roald Dahl</td>\n",
              "      <td>1990</td>\n",
              "      <td>Penguin Books</td>\n",
              "      <td>http://images.amazon.com/images/P/0140055770.0...</td>\n",
              "      <td>http://images.amazon.com/images/P/0140055770.0...</td>\n",
              "      <td>http://images.amazon.com/images/P/0140055770.0...</td>\n",
              "    </tr>\n",
              "    <tr>\n",
              "      <th>26659</th>\n",
              "      <td>0517532530</td>\n",
              "      <td>Scruples: A Novel</td>\n",
              "      <td>Judith Krantz</td>\n",
              "      <td>1978</td>\n",
              "      <td>Crown Publishing Group (NY)</td>\n",
              "      <td>http://images.amazon.com/images/P/0517532530.0...</td>\n",
              "      <td>http://images.amazon.com/images/P/0517532530.0...</td>\n",
              "      <td>http://images.amazon.com/images/P/0517532530.0...</td>\n",
              "    </tr>\n",
              "    <tr>\n",
              "      <th>1182</th>\n",
              "      <td>0441317502</td>\n",
              "      <td>Harp and the Blade</td>\n",
              "      <td>John Myers Myers</td>\n",
              "      <td>1985</td>\n",
              "      <td>Ace Books</td>\n",
              "      <td>http://images.amazon.com/images/P/0441317502.0...</td>\n",
              "      <td>http://images.amazon.com/images/P/0441317502.0...</td>\n",
              "      <td>http://images.amazon.com/images/P/0441317502.0...</td>\n",
              "    </tr>\n",
              "    <tr>\n",
              "      <th>178862</th>\n",
              "      <td>0440210720</td>\n",
              "      <td>Written in the Stars</td>\n",
              "      <td>Nan Ryan</td>\n",
              "      <td>1993</td>\n",
              "      <td>Dell Publishing Company</td>\n",
              "      <td>http://images.amazon.com/images/P/0440210720.0...</td>\n",
              "      <td>http://images.amazon.com/images/P/0440210720.0...</td>\n",
              "      <td>http://images.amazon.com/images/P/0440210720.0...</td>\n",
              "    </tr>\n",
              "    <tr>\n",
              "      <th>115565</th>\n",
              "      <td>0805044507</td>\n",
              "      <td>Field Guide to Mysterious Places of the Pacifi...</td>\n",
              "      <td>Salvatore Michael Trento</td>\n",
              "      <td>1997</td>\n",
              "      <td>Henry Holt &amp;amp; Co</td>\n",
              "      <td>http://images.amazon.com/images/P/0805044507.0...</td>\n",
              "      <td>http://images.amazon.com/images/P/0805044507.0...</td>\n",
              "      <td>http://images.amazon.com/images/P/0805044507.0...</td>\n",
              "    </tr>\n",
              "  </tbody>\n",
              "</table>\n",
              "</div>"
            ],
            "text/plain": [
              "              ISBN  ...                                        Image-URL-L\n",
              "18957   0140055770  ...  http://images.amazon.com/images/P/0140055770.0...\n",
              "26659   0517532530  ...  http://images.amazon.com/images/P/0517532530.0...\n",
              "1182    0441317502  ...  http://images.amazon.com/images/P/0441317502.0...\n",
              "178862  0440210720  ...  http://images.amazon.com/images/P/0440210720.0...\n",
              "115565  0805044507  ...  http://images.amazon.com/images/P/0805044507.0...\n",
              "\n",
              "[5 rows x 8 columns]"
            ]
          },
          "metadata": {},
          "execution_count": 4
        }
      ]
    },
    {
      "cell_type": "code",
      "metadata": {
        "colab": {
          "base_uri": "https://localhost:8080/"
        },
        "id": "uiLcN_Ablj44",
        "outputId": "e97cd3cf-e69b-4bc2-93a2-d596ae2cc51c"
      },
      "source": [
        "# Melihat informasi kolom df_buku\n",
        "df_buku.info()"
      ],
      "execution_count": 5,
      "outputs": [
        {
          "output_type": "stream",
          "name": "stdout",
          "text": [
            "<class 'pandas.core.frame.DataFrame'>\n",
            "RangeIndex: 271360 entries, 0 to 271359\n",
            "Data columns (total 8 columns):\n",
            " #   Column               Non-Null Count   Dtype \n",
            "---  ------               --------------   ----- \n",
            " 0   ISBN                 271360 non-null  object\n",
            " 1   Book-Title           271360 non-null  object\n",
            " 2   Book-Author          271359 non-null  object\n",
            " 3   Year-Of-Publication  271360 non-null  object\n",
            " 4   Publisher            271358 non-null  object\n",
            " 5   Image-URL-S          271360 non-null  object\n",
            " 6   Image-URL-M          271360 non-null  object\n",
            " 7   Image-URL-L          271357 non-null  object\n",
            "dtypes: object(8)\n",
            "memory usage: 16.6+ MB\n"
          ]
        }
      ]
    },
    {
      "cell_type": "markdown",
      "metadata": {
        "id": "w6CUt5UvE8I0"
      },
      "source": [
        "Umumnya kita bisa langsung melihat visualisasi distribusi penyebaran nilai dari kolom tahun terbit (Year-Of-Publication) tetapi setelah diperiksa terdapat kesalahan tipe data pada kolom tersebut yang seharusnya int tetapi justru *object*. Ada kemungkinan terdapat kesalahan nilai di dalamnya yang akan diperiksa pada proses selanjutnya."
      ]
    },
    {
      "cell_type": "code",
      "metadata": {
        "colab": {
          "base_uri": "https://localhost:8080/"
        },
        "id": "lwtoRnG4SQo2",
        "outputId": "bb5bbb04-382d-4c5d-fcc7-4cbed6b9bd89"
      },
      "source": [
        "# Melihat nilai kosong df_buku\n",
        "df_buku.isna().sum()"
      ],
      "execution_count": 6,
      "outputs": [
        {
          "output_type": "execute_result",
          "data": {
            "text/plain": [
              "ISBN                   0\n",
              "Book-Title             0\n",
              "Book-Author            1\n",
              "Year-Of-Publication    0\n",
              "Publisher              2\n",
              "Image-URL-S            0\n",
              "Image-URL-M            0\n",
              "Image-URL-L            3\n",
              "dtype: int64"
            ]
          },
          "metadata": {},
          "execution_count": 6
        }
      ]
    },
    {
      "cell_type": "code",
      "metadata": {
        "colab": {
          "base_uri": "https://localhost:8080/"
        },
        "id": "qPQS66dhrOh3",
        "outputId": "c90c60bf-2625-4049-8239-4ab0d8d5a7a3"
      },
      "source": [
        "# Memeriksa nilai yang ada pada kolom Year-Of-Publication\n",
        "print(df_buku['Year-Of-Publication'].unique())"
      ],
      "execution_count": 7,
      "outputs": [
        {
          "output_type": "stream",
          "name": "stdout",
          "text": [
            "[2002 2001 1991 1999 2000 1993 1996 1988 2004 1998 1994 2003 1997 1983\n",
            " 1979 1995 1982 1985 1992 1986 1978 1980 1952 1987 1990 1981 1989 1984 0\n",
            " 1968 1961 1958 1974 1976 1971 1977 1975 1965 1941 1970 1962 1973 1972\n",
            " 1960 1966 1920 1956 1959 1953 1951 1942 1963 1964 1969 1954 1950 1967\n",
            " 2005 1957 1940 1937 1955 1946 1936 1930 2011 1925 1948 1943 1947 1945\n",
            " 1923 2020 1939 1926 1938 2030 1911 1904 1949 1932 1928 1929 1927 1931\n",
            " 1914 2050 1934 1910 1933 1902 1924 1921 1900 2038 2026 1944 1917 1901\n",
            " 2010 1908 1906 1935 1806 2021 '2000' '1995' '1999' '2004' '2003' '1990'\n",
            " '1994' '1986' '1989' '2002' '1981' '1993' '1983' '1982' '1976' '1991'\n",
            " '1977' '1998' '1992' '1996' '0' '1997' '2001' '1974' '1968' '1987' '1984'\n",
            " '1988' '1963' '1956' '1970' '1985' '1978' '1973' '1980' '1979' '1975'\n",
            " '1969' '1961' '1965' '1939' '1958' '1950' '1953' '1966' '1971' '1959'\n",
            " '1972' '1955' '1957' '1945' '1960' '1967' '1932' '1924' '1964' '2012'\n",
            " '1911' '1927' '1948' '1962' '2006' '1952' '1940' '1951' '1931' '1954'\n",
            " '2005' '1930' '1941' '1944' 'DK Publishing Inc' '1943' '1938' '1900'\n",
            " '1942' '1923' '1920' '1933' 'Gallimard' '1909' '1946' '2008' '1378'\n",
            " '2030' '1936' '1947' '2011' '2020' '1919' '1949' '1922' '1897' '2024'\n",
            " '1376' '1926' '2037']\n"
          ]
        }
      ]
    },
    {
      "cell_type": "code",
      "metadata": {
        "colab": {
          "base_uri": "https://localhost:8080/"
        },
        "id": "3e2nIuxjYA8T",
        "outputId": "c4faa66b-19a8-47c9-8336-65cbae460777"
      },
      "source": [
        "# Melihat jumlah nilai unik pada judul, penerbit, dan penulis buku\n",
        "print('Banyak judul buku: ', len(df_buku['Book-Title'].unique()))\n",
        "print('Banyak penerbit: ', len(df_buku['Publisher'].unique()))\n",
        "print('Banyak penulis buku: ', len(df_buku['Book-Author'].unique()))"
      ],
      "execution_count": 8,
      "outputs": [
        {
          "output_type": "stream",
          "name": "stdout",
          "text": [
            "Banyak judul buku:  242135\n",
            "Banyak penerbit:  16808\n",
            "Banyak penulis buku:  102024\n"
          ]
        }
      ]
    },
    {
      "cell_type": "markdown",
      "metadata": {
        "id": "QGjlm0B3DP-U"
      },
      "source": [
        "Terdapat 271.360 baris pada informasi df_buku tetapi hanya terdapat 242.135 judul buku. Mari kita lihat nilai duplikat pada Book-Title untuk memahami lebih dalam:"
      ]
    },
    {
      "cell_type": "code",
      "metadata": {
        "colab": {
          "base_uri": "https://localhost:8080/",
          "height": 298
        },
        "id": "y_uyPuaOZ2ub",
        "outputId": "70d08329-32d6-401a-de85-fdff667b33f5"
      },
      "source": [
        "# Melihat nilai duplikat dari judul buku\n",
        "df_buku[df_buku['Book-Title'].duplicated()].sample(3)"
      ],
      "execution_count": 9,
      "outputs": [
        {
          "output_type": "execute_result",
          "data": {
            "text/html": [
              "<div>\n",
              "<style scoped>\n",
              "    .dataframe tbody tr th:only-of-type {\n",
              "        vertical-align: middle;\n",
              "    }\n",
              "\n",
              "    .dataframe tbody tr th {\n",
              "        vertical-align: top;\n",
              "    }\n",
              "\n",
              "    .dataframe thead th {\n",
              "        text-align: right;\n",
              "    }\n",
              "</style>\n",
              "<table border=\"1\" class=\"dataframe\">\n",
              "  <thead>\n",
              "    <tr style=\"text-align: right;\">\n",
              "      <th></th>\n",
              "      <th>ISBN</th>\n",
              "      <th>Book-Title</th>\n",
              "      <th>Book-Author</th>\n",
              "      <th>Year-Of-Publication</th>\n",
              "      <th>Publisher</th>\n",
              "      <th>Image-URL-S</th>\n",
              "      <th>Image-URL-M</th>\n",
              "      <th>Image-URL-L</th>\n",
              "    </tr>\n",
              "  </thead>\n",
              "  <tbody>\n",
              "    <tr>\n",
              "      <th>258844</th>\n",
              "      <td>0140148809</td>\n",
              "      <td>Titmuss Regained</td>\n",
              "      <td>John Mortimer</td>\n",
              "      <td>1991</td>\n",
              "      <td>Penguin Books Ltd</td>\n",
              "      <td>http://images.amazon.com/images/P/0140148809.0...</td>\n",
              "      <td>http://images.amazon.com/images/P/0140148809.0...</td>\n",
              "      <td>http://images.amazon.com/images/P/0140148809.0...</td>\n",
              "    </tr>\n",
              "    <tr>\n",
              "      <th>65055</th>\n",
              "      <td>0451451856</td>\n",
              "      <td>Shudder Again: 22 Tales of Sex and Horror</td>\n",
              "      <td>Michele Slung</td>\n",
              "      <td>1993</td>\n",
              "      <td>Penguin USA</td>\n",
              "      <td>http://images.amazon.com/images/P/0451451856.0...</td>\n",
              "      <td>http://images.amazon.com/images/P/0451451856.0...</td>\n",
              "      <td>http://images.amazon.com/images/P/0451451856.0...</td>\n",
              "    </tr>\n",
              "    <tr>\n",
              "      <th>267279</th>\n",
              "      <td>0380721791</td>\n",
              "      <td>Mayfield Crossing</td>\n",
              "      <td>Vaunda Micheaux Nelson</td>\n",
              "      <td>1994</td>\n",
              "      <td>HarperTrophy</td>\n",
              "      <td>http://images.amazon.com/images/P/0380721791.0...</td>\n",
              "      <td>http://images.amazon.com/images/P/0380721791.0...</td>\n",
              "      <td>http://images.amazon.com/images/P/0380721791.0...</td>\n",
              "    </tr>\n",
              "  </tbody>\n",
              "</table>\n",
              "</div>"
            ],
            "text/plain": [
              "              ISBN  ...                                        Image-URL-L\n",
              "258844  0140148809  ...  http://images.amazon.com/images/P/0140148809.0...\n",
              "65055   0451451856  ...  http://images.amazon.com/images/P/0451451856.0...\n",
              "267279  0380721791  ...  http://images.amazon.com/images/P/0380721791.0...\n",
              "\n",
              "[3 rows x 8 columns]"
            ]
          },
          "metadata": {},
          "execution_count": 9
        }
      ]
    },
    {
      "cell_type": "code",
      "metadata": {
        "colab": {
          "base_uri": "https://localhost:8080/",
          "height": 332
        },
        "id": "XkhSwl4IaD12",
        "outputId": "14252793-0d32-4463-ac73-1cca81ad3593"
      },
      "source": [
        "# Mengambil seluruh baris yang berisi salah satu judul buku duplikat di atas (cell sebelumnya)\n",
        "df_buku[df_buku['Book-Title'] == 'A Member of the Family']"
      ],
      "execution_count": 10,
      "outputs": [
        {
          "output_type": "execute_result",
          "data": {
            "text/html": [
              "<div>\n",
              "<style scoped>\n",
              "    .dataframe tbody tr th:only-of-type {\n",
              "        vertical-align: middle;\n",
              "    }\n",
              "\n",
              "    .dataframe tbody tr th {\n",
              "        vertical-align: top;\n",
              "    }\n",
              "\n",
              "    .dataframe thead th {\n",
              "        text-align: right;\n",
              "    }\n",
              "</style>\n",
              "<table border=\"1\" class=\"dataframe\">\n",
              "  <thead>\n",
              "    <tr style=\"text-align: right;\">\n",
              "      <th></th>\n",
              "      <th>ISBN</th>\n",
              "      <th>Book-Title</th>\n",
              "      <th>Book-Author</th>\n",
              "      <th>Year-Of-Publication</th>\n",
              "      <th>Publisher</th>\n",
              "      <th>Image-URL-S</th>\n",
              "      <th>Image-URL-M</th>\n",
              "      <th>Image-URL-L</th>\n",
              "    </tr>\n",
              "  </thead>\n",
              "  <tbody>\n",
              "    <tr>\n",
              "      <th>37921</th>\n",
              "      <td>0060192801</td>\n",
              "      <td>A Member of the Family</td>\n",
              "      <td>Susan Merrell</td>\n",
              "      <td>2000</td>\n",
              "      <td>HarperCollins Publishers</td>\n",
              "      <td>http://images.amazon.com/images/P/0060192801.0...</td>\n",
              "      <td>http://images.amazon.com/images/P/0060192801.0...</td>\n",
              "      <td>http://images.amazon.com/images/P/0060192801.0...</td>\n",
              "    </tr>\n",
              "    <tr>\n",
              "      <th>113979</th>\n",
              "      <td>0312853491</td>\n",
              "      <td>A Member of the Family</td>\n",
              "      <td>Nick Vasile</td>\n",
              "      <td>1993</td>\n",
              "      <td>St Martins Pr</td>\n",
              "      <td>http://images.amazon.com/images/P/0312853491.0...</td>\n",
              "      <td>http://images.amazon.com/images/P/0312853491.0...</td>\n",
              "      <td>http://images.amazon.com/images/P/0312853491.0...</td>\n",
              "    </tr>\n",
              "    <tr>\n",
              "      <th>214060</th>\n",
              "      <td>0812520467</td>\n",
              "      <td>A Member of the Family</td>\n",
              "      <td>Nick Vasile</td>\n",
              "      <td>1995</td>\n",
              "      <td>Tor Books (Mm)</td>\n",
              "      <td>http://images.amazon.com/images/P/0812520467.0...</td>\n",
              "      <td>http://images.amazon.com/images/P/0812520467.0...</td>\n",
              "      <td>http://images.amazon.com/images/P/0812520467.0...</td>\n",
              "    </tr>\n",
              "  </tbody>\n",
              "</table>\n",
              "</div>"
            ],
            "text/plain": [
              "              ISBN  ...                                        Image-URL-L\n",
              "37921   0060192801  ...  http://images.amazon.com/images/P/0060192801.0...\n",
              "113979  0312853491  ...  http://images.amazon.com/images/P/0312853491.0...\n",
              "214060  0812520467  ...  http://images.amazon.com/images/P/0812520467.0...\n",
              "\n",
              "[3 rows x 8 columns]"
            ]
          },
          "metadata": {},
          "execution_count": 10
        }
      ]
    },
    {
      "cell_type": "markdown",
      "metadata": {
        "id": "gtzxH0oUDveU"
      },
      "source": [
        "Dari eksplorasi data Books.csv ini dapat kita simpulkan bahwa:\n",
        "\n",
        "1. Sebuah buku dapat memiliki lebih dari satu ISBN. Hal ini dapat menjadikan dasar untuk mengelompokkan atau menghimpun data berdasarkan judul buku.\n",
        "2. Data Books.csv memiliki 271.360 baris dan 8 kolom.\n",
        "3. Terdapat nilai kosong pada kolom Book-Author, Publisher, dan Image-URL-L.\n",
        "4. Terdapat kesalahan nilai pada kolom Year-Of-Publication."
      ]
    },
    {
      "cell_type": "markdown",
      "metadata": {
        "id": "ixmjS-1qc_NG"
      },
      "source": [
        "### Ratings"
      ]
    },
    {
      "cell_type": "code",
      "metadata": {
        "colab": {
          "base_uri": "https://localhost:8080/",
          "height": 204
        },
        "id": "UStifA3dtH7A",
        "outputId": "0f9c0627-294f-4b13-f8f7-7e018292719d"
      },
      "source": [
        "# Load Rating.csv ke df_rate\n",
        "url = '/content/Ratings.csv'\n",
        "df_rate = pd.read_csv(url)\n",
        "df_rate.tail(5)"
      ],
      "execution_count": 11,
      "outputs": [
        {
          "output_type": "execute_result",
          "data": {
            "text/html": [
              "<div>\n",
              "<style scoped>\n",
              "    .dataframe tbody tr th:only-of-type {\n",
              "        vertical-align: middle;\n",
              "    }\n",
              "\n",
              "    .dataframe tbody tr th {\n",
              "        vertical-align: top;\n",
              "    }\n",
              "\n",
              "    .dataframe thead th {\n",
              "        text-align: right;\n",
              "    }\n",
              "</style>\n",
              "<table border=\"1\" class=\"dataframe\">\n",
              "  <thead>\n",
              "    <tr style=\"text-align: right;\">\n",
              "      <th></th>\n",
              "      <th>User-ID</th>\n",
              "      <th>ISBN</th>\n",
              "      <th>Book-Rating</th>\n",
              "    </tr>\n",
              "  </thead>\n",
              "  <tbody>\n",
              "    <tr>\n",
              "      <th>1149775</th>\n",
              "      <td>276704</td>\n",
              "      <td>1563526298</td>\n",
              "      <td>9</td>\n",
              "    </tr>\n",
              "    <tr>\n",
              "      <th>1149776</th>\n",
              "      <td>276706</td>\n",
              "      <td>0679447156</td>\n",
              "      <td>0</td>\n",
              "    </tr>\n",
              "    <tr>\n",
              "      <th>1149777</th>\n",
              "      <td>276709</td>\n",
              "      <td>0515107662</td>\n",
              "      <td>10</td>\n",
              "    </tr>\n",
              "    <tr>\n",
              "      <th>1149778</th>\n",
              "      <td>276721</td>\n",
              "      <td>0590442449</td>\n",
              "      <td>10</td>\n",
              "    </tr>\n",
              "    <tr>\n",
              "      <th>1149779</th>\n",
              "      <td>276723</td>\n",
              "      <td>05162443314</td>\n",
              "      <td>8</td>\n",
              "    </tr>\n",
              "  </tbody>\n",
              "</table>\n",
              "</div>"
            ],
            "text/plain": [
              "         User-ID         ISBN  Book-Rating\n",
              "1149775   276704   1563526298            9\n",
              "1149776   276706   0679447156            0\n",
              "1149777   276709   0515107662           10\n",
              "1149778   276721   0590442449           10\n",
              "1149779   276723  05162443314            8"
            ]
          },
          "metadata": {},
          "execution_count": 11
        }
      ]
    },
    {
      "cell_type": "code",
      "metadata": {
        "colab": {
          "base_uri": "https://localhost:8080/"
        },
        "id": "a8Uy93f50r88",
        "outputId": "c273bd8f-bdef-49cb-f0fa-d050efa1bb26"
      },
      "source": [
        "# Melihat informasi kolom df_rate\n",
        "df_rate.info()"
      ],
      "execution_count": 12,
      "outputs": [
        {
          "output_type": "stream",
          "name": "stdout",
          "text": [
            "<class 'pandas.core.frame.DataFrame'>\n",
            "RangeIndex: 1149780 entries, 0 to 1149779\n",
            "Data columns (total 3 columns):\n",
            " #   Column       Non-Null Count    Dtype \n",
            "---  ------       --------------    ----- \n",
            " 0   User-ID      1149780 non-null  int64 \n",
            " 1   ISBN         1149780 non-null  object\n",
            " 2   Book-Rating  1149780 non-null  int64 \n",
            "dtypes: int64(2), object(1)\n",
            "memory usage: 26.3+ MB\n"
          ]
        }
      ]
    },
    {
      "cell_type": "code",
      "metadata": {
        "colab": {
          "base_uri": "https://localhost:8080/"
        },
        "id": "ZaxmBLs8tkqD",
        "outputId": "21a05e36-c6f2-4785-a9d7-b339eecad0b2"
      },
      "source": [
        "# Melihat nilai kosong pada df_buku\n",
        "df_rate.isna().sum()"
      ],
      "execution_count": 13,
      "outputs": [
        {
          "output_type": "execute_result",
          "data": {
            "text/plain": [
              "User-ID        0\n",
              "ISBN           0\n",
              "Book-Rating    0\n",
              "dtype: int64"
            ]
          },
          "metadata": {},
          "execution_count": 13
        }
      ]
    },
    {
      "cell_type": "code",
      "metadata": {
        "colab": {
          "base_uri": "https://localhost:8080/"
        },
        "id": "iezxry2Xerrt",
        "outputId": "961df21e-d52a-44ba-905a-f086cf5eb431"
      },
      "source": [
        "# Melihat jumlah nilai unik kolom User-ID dan ISBN pada df_buku\n",
        "print('Banyak user memberi rate: ', len(df_rate['User-ID'].unique()))\n",
        "print('Banyak buku diberi rate', len(df_rate['ISBN'].unique()))\n",
        "\n",
        "# Melihat isi rate yang diberikan user\n",
        "print('Rating yang diberikan', df_rate['Book-Rating'].unique())"
      ],
      "execution_count": 14,
      "outputs": [
        {
          "output_type": "stream",
          "name": "stdout",
          "text": [
            "Banyak user memberi rate:  105283\n",
            "Banyak buku diberi rate 340556\n",
            "Rating yang diberikan [ 0  5  3  6  8  7 10  9  4  1  2]\n"
          ]
        }
      ]
    },
    {
      "cell_type": "code",
      "metadata": {
        "colab": {
          "base_uri": "https://localhost:8080/",
          "height": 296
        },
        "id": "Jimaw9UI7Ht3",
        "outputId": "b29b07c9-bb84-4616-af63-67a1ac302512"
      },
      "source": [
        "# Visualisasi distribusi penyebaran penilaian user\n",
        "sns.countplot(data=df_rate , x='Book-Rating')"
      ],
      "execution_count": 15,
      "outputs": [
        {
          "output_type": "execute_result",
          "data": {
            "text/plain": [
              "<matplotlib.axes._subplots.AxesSubplot at 0x7faf2adb4550>"
            ]
          },
          "metadata": {},
          "execution_count": 15
        },
        {
          "output_type": "display_data",
          "data": {
            "image/png": "[encoded data removed]",
            "text/plain": [
              "<Figure size 432x288 with 1 Axes>"
            ]
          },
          "metadata": {
            "needs_background": "light"
          }
        }
      ]
    },
    {
      "cell_type": "markdown",
      "metadata": {
        "id": "nmdzdIlxFbPY"
      },
      "source": [
        "Dari eksplorasi data Ratings.csv, dapat kita simpulkan bahwa:\n",
        "\n",
        "1. Distribusi Book-Rating memiliki nilai 0 cukup banyak. Menurut metadata, nilai 0 ini adalah penilaian implisit yang perlu dilakukan pengolahan di proses selanjutnya untuk membedakan penilaian eksplisit.\n",
        "2. Data ini memiliki 1.149.780 baris dan 3 kolom.\n",
        "3. Tidak terdapat nilai kosong pada data ini.\n",
        "\n"
      ]
    },
    {
      "cell_type": "markdown",
      "metadata": {
        "id": "ObhPKEK-eeia"
      },
      "source": [
        "### Users"
      ]
    },
    {
      "cell_type": "code",
      "metadata": {
        "colab": {
          "base_uri": "https://localhost:8080/",
          "height": 204
        },
        "id": "o07OjuQNtJsw",
        "outputId": "ecc82d52-50cf-4e67-817d-520745fab764"
      },
      "source": [
        "# Load Users.csv ke df_user\n",
        "url = '/content/Users.csv'\n",
        "df_user = pd.read_csv(url)\n",
        "df_user.sample(5)"
      ],
      "execution_count": 16,
      "outputs": [
        {
          "output_type": "execute_result",
          "data": {
            "text/html": [
              "<div>\n",
              "<style scoped>\n",
              "    .dataframe tbody tr th:only-of-type {\n",
              "        vertical-align: middle;\n",
              "    }\n",
              "\n",
              "    .dataframe tbody tr th {\n",
              "        vertical-align: top;\n",
              "    }\n",
              "\n",
              "    .dataframe thead th {\n",
              "        text-align: right;\n",
              "    }\n",
              "</style>\n",
              "<table border=\"1\" class=\"dataframe\">\n",
              "  <thead>\n",
              "    <tr style=\"text-align: right;\">\n",
              "      <th></th>\n",
              "      <th>User-ID</th>\n",
              "      <th>Location</th>\n",
              "      <th>Age</th>\n",
              "    </tr>\n",
              "  </thead>\n",
              "  <tbody>\n",
              "    <tr>\n",
              "      <th>128986</th>\n",
              "      <td>128987</td>\n",
              "      <td>karachi, sindh, pakistan</td>\n",
              "      <td>19.0</td>\n",
              "    </tr>\n",
              "    <tr>\n",
              "      <th>122595</th>\n",
              "      <td>122596</td>\n",
              "      <td>barcelona, catalunya, spain</td>\n",
              "      <td>104.0</td>\n",
              "    </tr>\n",
              "    <tr>\n",
              "      <th>146780</th>\n",
              "      <td>146781</td>\n",
              "      <td>bethesda, maryland, usa</td>\n",
              "      <td>52.0</td>\n",
              "    </tr>\n",
              "    <tr>\n",
              "      <th>100018</th>\n",
              "      <td>100019</td>\n",
              "      <td>columbus, ohio, usa</td>\n",
              "      <td>17.0</td>\n",
              "    </tr>\n",
              "    <tr>\n",
              "      <th>191472</th>\n",
              "      <td>191473</td>\n",
              "      <td>duarte, california, usa</td>\n",
              "      <td>18.0</td>\n",
              "    </tr>\n",
              "  </tbody>\n",
              "</table>\n",
              "</div>"
            ],
            "text/plain": [
              "        User-ID                     Location    Age\n",
              "128986   128987     karachi, sindh, pakistan   19.0\n",
              "122595   122596  barcelona, catalunya, spain  104.0\n",
              "146780   146781      bethesda, maryland, usa   52.0\n",
              "100018   100019          columbus, ohio, usa   17.0\n",
              "191472   191473      duarte, california, usa   18.0"
            ]
          },
          "metadata": {},
          "execution_count": 16
        }
      ]
    },
    {
      "cell_type": "code",
      "metadata": {
        "colab": {
          "base_uri": "https://localhost:8080/"
        },
        "id": "GUlNQ2aqm84I",
        "outputId": "650940e6-435e-441f-dbed-be4d83701547"
      },
      "source": [
        "# Melihat informasi df_user\n",
        "df_user.info()"
      ],
      "execution_count": 17,
      "outputs": [
        {
          "output_type": "stream",
          "name": "stdout",
          "text": [
            "<class 'pandas.core.frame.DataFrame'>\n",
            "RangeIndex: 278858 entries, 0 to 278857\n",
            "Data columns (total 3 columns):\n",
            " #   Column    Non-Null Count   Dtype  \n",
            "---  ------    --------------   -----  \n",
            " 0   User-ID   278858 non-null  int64  \n",
            " 1   Location  278858 non-null  object \n",
            " 2   Age       168096 non-null  float64\n",
            "dtypes: float64(1), int64(1), object(1)\n",
            "memory usage: 6.4+ MB\n"
          ]
        }
      ]
    },
    {
      "cell_type": "code",
      "metadata": {
        "colab": {
          "base_uri": "https://localhost:8080/"
        },
        "id": "gIBgornAtlfq",
        "outputId": "764cd3ab-2087-4f26-8fbb-2fe2c7b086a5"
      },
      "source": [
        "# Menghitung nilai kosong pada df_user\n",
        "df_user.isna().sum()"
      ],
      "execution_count": 18,
      "outputs": [
        {
          "output_type": "execute_result",
          "data": {
            "text/plain": [
              "User-ID          0\n",
              "Location         0\n",
              "Age         110762\n",
              "dtype: int64"
            ]
          },
          "metadata": {},
          "execution_count": 18
        }
      ]
    },
    {
      "cell_type": "code",
      "metadata": {
        "colab": {
          "base_uri": "https://localhost:8080/"
        },
        "id": "AhyI4q6_fxmp",
        "outputId": "d463ce26-39d2-4fad-9c08-65aac6279265"
      },
      "source": [
        "# Melihat jumlah nilai unik kolom User-ID dan lokasi pada df_user\n",
        "print('Banyak user: ', len(df_user['User-ID'].unique()))\n",
        "print('Banyak lokasi user', len(df_user['Location'].unique()))"
      ],
      "execution_count": 19,
      "outputs": [
        {
          "output_type": "stream",
          "name": "stdout",
          "text": [
            "Banyak user:  278858\n",
            "Banyak lokasi user 57339\n"
          ]
        }
      ]
    },
    {
      "cell_type": "code",
      "metadata": {
        "colab": {
          "base_uri": "https://localhost:8080/",
          "height": 297
        },
        "id": "yttC5kMW-Zea",
        "outputId": "b047ac1e-9080-4240-80d4-185d112438df"
      },
      "source": [
        "# Melihat distribusi nilai pada Age\n",
        "sns.histplot(data=df_user , x='Age')\n",
        "plt.title('Distribusi Usia',size=16)\n",
        "plt.show()"
      ],
      "execution_count": 20,
      "outputs": [
        {
          "output_type": "display_data",
          "data": {
            "image/png": "[encoded data removed]",
            "text/plain": [
              "<Figure size 432x288 with 1 Axes>"
            ]
          },
          "metadata": {
            "needs_background": "light"
          }
        }
      ]
    },
    {
      "cell_type": "markdown",
      "metadata": {
        "id": "FGknF6swJbsf"
      },
      "source": [
        "Dari grafik, rentang yang diberikan cukup luas dari 0 sampai 250. Untuk sementara dapat disimpulkan bahwa terdapat nilai abnormal yang akan kita proses di tahap selanjutnya."
      ]
    },
    {
      "cell_type": "code",
      "metadata": {
        "colab": {
          "base_uri": "https://localhost:8080/"
        },
        "id": "wP0cB7oJJZhD",
        "outputId": "70e3792c-3d2f-4127-b16b-52904d0a6d64"
      },
      "source": [
        "# Melihat isi Age user\n",
        "print('Umur (Age) user: ', df_user['Age'].unique())"
      ],
      "execution_count": 21,
      "outputs": [
        {
          "output_type": "stream",
          "name": "stdout",
          "text": [
            "Umur (Age) user:  [ nan  18.  17.  61.  26.  14.  25.  19.  46.  55.  32.  24.  20.  34.\n",
            "  23.  51.  31.  21.  44.  30.  57.  43.  37.  41.  54.  42.  50.  39.\n",
            "  53.  47.  36.  28.  35.  13.  58.  49.  38.  45.  62.  63.  27.  33.\n",
            "  29.  66.  40.  15.  60.   0.  79.  22.  16.  65.  59.  48.  72.  56.\n",
            "  67.   1.  80.  52.  69.  71.  73.  78.   9.  64. 103. 104.  12.  74.\n",
            "  75. 231.   3.  76.  83.  68. 119.  11.  77.   2.  70.  93.   8.   7.\n",
            "   4.  81. 114. 230. 239.  10.   5. 148. 151.   6. 101. 201.  96.  84.\n",
            "  82.  90. 123. 244. 133.  91. 128.  94.  85. 141. 110.  97. 219.  86.\n",
            " 124.  92. 175. 172. 209. 212. 237.  87. 162. 100. 156. 136.  95.  89.\n",
            " 106.  99. 108. 210.  88. 199. 147. 168. 132. 159. 186. 152. 102. 116.\n",
            " 200. 115. 226. 137. 207. 229. 138. 109. 105. 228. 183. 204.  98. 223.\n",
            " 113. 208. 107. 157. 111. 146. 118. 220. 143. 140. 189. 127.]\n"
          ]
        }
      ]
    },
    {
      "cell_type": "code",
      "metadata": {
        "colab": {
          "base_uri": "https://localhost:8080/",
          "height": 173
        },
        "id": "iUmdTpFShF7q",
        "outputId": "1ac64fb9-cf26-4d9f-fa20-f8779ea27e98"
      },
      "source": [
        "# Melihat contoh nilai abnormal dengan usia 204\n",
        "df_user[df_user['Age'] == 204]"
      ],
      "execution_count": 22,
      "outputs": [
        {
          "output_type": "execute_result",
          "data": {
            "text/html": [
              "<div>\n",
              "<style scoped>\n",
              "    .dataframe tbody tr th:only-of-type {\n",
              "        vertical-align: middle;\n",
              "    }\n",
              "\n",
              "    .dataframe tbody tr th {\n",
              "        vertical-align: top;\n",
              "    }\n",
              "\n",
              "    .dataframe thead th {\n",
              "        text-align: right;\n",
              "    }\n",
              "</style>\n",
              "<table border=\"1\" class=\"dataframe\">\n",
              "  <thead>\n",
              "    <tr style=\"text-align: right;\">\n",
              "      <th></th>\n",
              "      <th>User-ID</th>\n",
              "      <th>Location</th>\n",
              "      <th>Age</th>\n",
              "    </tr>\n",
              "  </thead>\n",
              "  <tbody>\n",
              "    <tr>\n",
              "      <th>184860</th>\n",
              "      <td>184861</td>\n",
              "      <td>fort morgan, colorado, usa</td>\n",
              "      <td>204.0</td>\n",
              "    </tr>\n",
              "    <tr>\n",
              "      <th>190646</th>\n",
              "      <td>190647</td>\n",
              "      <td>fode-te ai porco, raffah, palestine</td>\n",
              "      <td>204.0</td>\n",
              "    </tr>\n",
              "    <tr>\n",
              "      <th>210012</th>\n",
              "      <td>210013</td>\n",
              "      <td>sydney, new south wales, australia</td>\n",
              "      <td>204.0</td>\n",
              "    </tr>\n",
              "    <tr>\n",
              "      <th>226615</th>\n",
              "      <td>226616</td>\n",
              "      <td>tucson, arizona, usa</td>\n",
              "      <td>204.0</td>\n",
              "    </tr>\n",
              "  </tbody>\n",
              "</table>\n",
              "</div>"
            ],
            "text/plain": [
              "        User-ID                             Location    Age\n",
              "184860   184861           fort morgan, colorado, usa  204.0\n",
              "190646   190647  fode-te ai porco, raffah, palestine  204.0\n",
              "210012   210013   sydney, new south wales, australia  204.0\n",
              "226615   226616                 tucson, arizona, usa  204.0"
            ]
          },
          "metadata": {},
          "execution_count": 22
        }
      ]
    },
    {
      "cell_type": "markdown",
      "metadata": {
        "id": "tCDe-VbVJ-Yq"
      },
      "source": [
        "Dari eksplorasi data Users.csv, dapat kita simpulkan bahwa:\n",
        "\n",
        "1. Distribusi nilai Age pada data Users.csv memiliki skewness positif dan terdapat nilai abnormal yang akan kita proses di tahap selanjutnya.\n",
        "2. Data ini memiliki 278.858 baris dan 3 kolom.\n",
        "3. Terdapat nilai kosong pada kolom Age.\n",
        "\n"
      ]
    },
    {
      "cell_type": "markdown",
      "metadata": {
        "id": "Ep5U_fPOj-_B"
      },
      "source": [
        "# Data Preparation"
      ]
    },
    {
      "cell_type": "markdown",
      "metadata": {
        "id": "-A_gGELVKbFr"
      },
      "source": [
        "## 3) Mengganti Nama Kolom"
      ]
    },
    {
      "cell_type": "code",
      "metadata": {
        "id": "foFkind1zI-P"
      },
      "source": [
        "# Mengganti nama kolom agar mudah digunakan dalam pemrosesan berikutnya\n",
        "df_buku.rename(columns={\n",
        "    'Book-Title':'book_title',\n",
        "    'Book-Author':'book_author',\n",
        "    'Year-Of-Publication':'year_of_publication'\n",
        "    },inplace=True)\n",
        "df_rate.rename(columns={\n",
        "    'User-ID':'user_id',\n",
        "    'Book-Rating':'book_rating'\n",
        "    },inplace=True)\n",
        "df_user.rename(columns={\n",
        "    'User-ID':'user_id'\n",
        "    },inplace=True)"
      ],
      "execution_count": 23,
      "outputs": []
    },
    {
      "cell_type": "markdown",
      "metadata": {
        "id": "6PxI_N-WKqY_"
      },
      "source": [
        "## 4) Memperbaiki Nilai"
      ]
    },
    {
      "cell_type": "code",
      "metadata": {
        "colab": {
          "base_uri": "https://localhost:8080/",
          "height": 468
        },
        "id": "KL-OQKl-mNrB",
        "outputId": "0ee86faf-b1dd-4951-cab8-129cb1a0a025"
      },
      "source": [
        "# Setting agar menampilkan kolom secara penuh\n",
        "pd.set_option('display.max_columns', None)\n",
        "pd.set_option(\"display.max_colwidth\", None)\n",
        "\n",
        "# Memeriksa nilai abnormal agar mendapat index-nya\n",
        "df_buku[df_buku['year_of_publication'].isin(['Gallimard', 'DK Publishing Inc'])]"
      ],
      "execution_count": 24,
      "outputs": [
        {
          "output_type": "execute_result",
          "data": {
            "text/html": [
              "<div>\n",
              "<style scoped>\n",
              "    .dataframe tbody tr th:only-of-type {\n",
              "        vertical-align: middle;\n",
              "    }\n",
              "\n",
              "    .dataframe tbody tr th {\n",
              "        vertical-align: top;\n",
              "    }\n",
              "\n",
              "    .dataframe thead th {\n",
              "        text-align: right;\n",
              "    }\n",
              "</style>\n",
              "<table border=\"1\" class=\"dataframe\">\n",
              "  <thead>\n",
              "    <tr style=\"text-align: right;\">\n",
              "      <th></th>\n",
              "      <th>ISBN</th>\n",
              "      <th>book_title</th>\n",
              "      <th>book_author</th>\n",
              "      <th>year_of_publication</th>\n",
              "      <th>Publisher</th>\n",
              "      <th>Image-URL-S</th>\n",
              "      <th>Image-URL-M</th>\n",
              "      <th>Image-URL-L</th>\n",
              "    </tr>\n",
              "  </thead>\n",
              "  <tbody>\n",
              "    <tr>\n",
              "      <th>209538</th>\n",
              "      <td>078946697X</td>\n",
              "      <td>DK Readers: Creating the X-Men, How It All Began (Level 4: Proficient Readers)\\\";Michael Teitelbaum\"</td>\n",
              "      <td>2000</td>\n",
              "      <td>DK Publishing Inc</td>\n",
              "      <td>http://images.amazon.com/images/P/078946697X.01.THUMBZZZ.jpg</td>\n",
              "      <td>http://images.amazon.com/images/P/078946697X.01.MZZZZZZZ.jpg</td>\n",
              "      <td>http://images.amazon.com/images/P/078946697X.01.LZZZZZZZ.jpg</td>\n",
              "      <td>NaN</td>\n",
              "    </tr>\n",
              "    <tr>\n",
              "      <th>220731</th>\n",
              "      <td>2070426769</td>\n",
              "      <td>Peuple du ciel, suivi de 'Les Bergers\\\";Jean-Marie Gustave Le ClÃ?Â©zio\"</td>\n",
              "      <td>2003</td>\n",
              "      <td>Gallimard</td>\n",
              "      <td>http://images.amazon.com/images/P/2070426769.01.THUMBZZZ.jpg</td>\n",
              "      <td>http://images.amazon.com/images/P/2070426769.01.MZZZZZZZ.jpg</td>\n",
              "      <td>http://images.amazon.com/images/P/2070426769.01.LZZZZZZZ.jpg</td>\n",
              "      <td>NaN</td>\n",
              "    </tr>\n",
              "    <tr>\n",
              "      <th>221678</th>\n",
              "      <td>0789466953</td>\n",
              "      <td>DK Readers: Creating the X-Men, How Comic Books Come to Life (Level 4: Proficient Readers)\\\";James Buckley\"</td>\n",
              "      <td>2000</td>\n",
              "      <td>DK Publishing Inc</td>\n",
              "      <td>http://images.amazon.com/images/P/0789466953.01.THUMBZZZ.jpg</td>\n",
              "      <td>http://images.amazon.com/images/P/0789466953.01.MZZZZZZZ.jpg</td>\n",
              "      <td>http://images.amazon.com/images/P/0789466953.01.LZZZZZZZ.jpg</td>\n",
              "      <td>NaN</td>\n",
              "    </tr>\n",
              "  </tbody>\n",
              "</table>\n",
              "</div>"
            ],
            "text/plain": [
              "              ISBN  \\\n",
              "209538  078946697X   \n",
              "220731  2070426769   \n",
              "221678  0789466953   \n",
              "\n",
              "                                                                                                         book_title  \\\n",
              "209538         DK Readers: Creating the X-Men, How It All Began (Level 4: Proficient Readers)\\\";Michael Teitelbaum\"   \n",
              "220731                                     Peuple du ciel, suivi de 'Les Bergers\\\";Jean-Marie Gustave Le ClÃ?Â©zio\"   \n",
              "221678  DK Readers: Creating the X-Men, How Comic Books Come to Life (Level 4: Proficient Readers)\\\";James Buckley\"   \n",
              "\n",
              "       book_author year_of_publication  \\\n",
              "209538        2000   DK Publishing Inc   \n",
              "220731        2003           Gallimard   \n",
              "221678        2000   DK Publishing Inc   \n",
              "\n",
              "                                                           Publisher  \\\n",
              "209538  http://images.amazon.com/images/P/078946697X.01.THUMBZZZ.jpg   \n",
              "220731  http://images.amazon.com/images/P/2070426769.01.THUMBZZZ.jpg   \n",
              "221678  http://images.amazon.com/images/P/0789466953.01.THUMBZZZ.jpg   \n",
              "\n",
              "                                                         Image-URL-S  \\\n",
              "209538  http://images.amazon.com/images/P/078946697X.01.MZZZZZZZ.jpg   \n",
              "220731  http://images.amazon.com/images/P/2070426769.01.MZZZZZZZ.jpg   \n",
              "221678  http://images.amazon.com/images/P/0789466953.01.MZZZZZZZ.jpg   \n",
              "\n",
              "                                                         Image-URL-M  \\\n",
              "209538  http://images.amazon.com/images/P/078946697X.01.LZZZZZZZ.jpg   \n",
              "220731  http://images.amazon.com/images/P/2070426769.01.LZZZZZZZ.jpg   \n",
              "221678  http://images.amazon.com/images/P/0789466953.01.LZZZZZZZ.jpg   \n",
              "\n",
              "       Image-URL-L  \n",
              "209538         NaN  \n",
              "220731         NaN  \n",
              "221678         NaN  "
            ]
          },
          "metadata": {},
          "execution_count": 24
        }
      ]
    },
    {
      "cell_type": "code",
      "metadata": {
        "colab": {
          "base_uri": "https://localhost:8080/"
        },
        "id": "HrHZFWXkkA-c",
        "outputId": "bb84e49d-f74d-4e3b-d9b4-bce4028ca309"
      },
      "source": [
        "# Memperbaiki nilai df_buku di index 209538, 220731, 221678\n",
        "df_buku.loc[[209538],'year_of_publication'] = 2000\n",
        "df_buku.loc[[209538],'book_author'] = 'Michael Teitelbaum'\n",
        "df_buku.loc[[209538],'Publisher'] = 'DK Publishing Inc'\n",
        "df_buku.loc[[209538],'book_title'] = 'DK Readers: Creating the X-Men, How It All Began (Level 4: Proficient Readers)'\n",
        "\n",
        "df_buku.loc[[220731],'year_of_publication'] = 2003\n",
        "df_buku.loc[[220731],'book_author'] = 'Jean-Marie Gustave Le ClÃ?Â©zio'\n",
        "df_buku.loc[[220731],'Publisher'] = 'Gallimard'\n",
        "df_buku.loc[[220731],'book_title'] = 'Peuple du ciel, suivi de \\'Les Bergers'\n",
        "\n",
        "df_buku.loc[[221678],'year_of_publication'] = 2000\n",
        "df_buku.loc[[221678],'book_author'] = 'James Buckley'\n",
        "df_buku.loc[[221678],'Publisher'] = 'DK Publishing Inc'\n",
        "df_buku.loc[[221678],'book_title'] = 'DK Readers: Creating the X-Men, How Comic Books Come to Life (Level 4: Proficient Readers)'\n",
        "\n",
        "# Preprocessing kolom year_of_publication\n",
        "## Mengganti kolom ke integer\n",
        "df_buku['year_of_publication'] = df_buku['year_of_publication'].astype(int)\n",
        "\n",
        "## Menganti nilai abnormal\n",
        "df_buku.loc[(df_buku.year_of_publication <= 1960) |\n",
        "            (df_buku.year_of_publication >= 2006)\n",
        "            ,'year_of_publication'] = round(df_buku.year_of_publication.value_counts().idxmax())\n",
        "\n",
        "df_buku.info()"
      ],
      "execution_count": 25,
      "outputs": [
        {
          "output_type": "stream",
          "name": "stdout",
          "text": [
            "<class 'pandas.core.frame.DataFrame'>\n",
            "RangeIndex: 271360 entries, 0 to 271359\n",
            "Data columns (total 8 columns):\n",
            " #   Column               Non-Null Count   Dtype \n",
            "---  ------               --------------   ----- \n",
            " 0   ISBN                 271360 non-null  object\n",
            " 1   book_title           271360 non-null  object\n",
            " 2   book_author          271359 non-null  object\n",
            " 3   year_of_publication  271360 non-null  int64 \n",
            " 4   Publisher            271358 non-null  object\n",
            " 5   Image-URL-S          271360 non-null  object\n",
            " 6   Image-URL-M          271360 non-null  object\n",
            " 7   Image-URL-L          271357 non-null  object\n",
            "dtypes: int64(1), object(7)\n",
            "memory usage: 16.6+ MB\n"
          ]
        }
      ]
    },
    {
      "cell_type": "code",
      "metadata": {
        "colab": {
          "base_uri": "https://localhost:8080/"
        },
        "id": "NAUj_hNBeJmB",
        "outputId": "64742bac-0ddc-4ed7-84dc-f783e4ab35e5"
      },
      "source": [
        "# Menampilkan nilai year_of_publication setelah dikoreksi\n",
        "print(df_buku['year_of_publication'].unique())"
      ],
      "execution_count": 26,
      "outputs": [
        {
          "output_type": "stream",
          "name": "stdout",
          "text": [
            "[2002 2001 1991 1999 2000 1993 1996 1988 2004 1998 1994 2003 1997 1983\n",
            " 1979 1995 1982 1985 1992 1986 1978 1980 1987 1990 1981 1989 1984 1968\n",
            " 1961 1974 1976 1971 1977 1975 1965 1970 1962 1973 1972 1966 1963 1964\n",
            " 1969 1967 2005]\n"
          ]
        }
      ]
    },
    {
      "cell_type": "code",
      "metadata": {
        "id": "52DEYYgM9uhz"
      },
      "source": [
        "# Memperbaiki nilai abnormal pada Age\n",
        "df_user.loc[(df_user.Age <= 5) |\n",
        "            (df_user.Age >= 90)\n",
        "            ,'Age'] = round(df_user.Age.value_counts().idxmax())"
      ],
      "execution_count": 27,
      "outputs": []
    },
    {
      "cell_type": "code",
      "metadata": {
        "colab": {
          "base_uri": "https://localhost:8080/",
          "height": 301
        },
        "id": "XU2UKyO74QRF",
        "outputId": "11079891-b240-431e-8e0f-ab096567a80e"
      },
      "source": [
        "# Menampilkan distribusi year_of_publication\n",
        "sns.histplot(df_buku['year_of_publication'])\n",
        "plt.xlabel('Year Of Publication',size=14)\n",
        "plt.title('Histogram Tahun Publikasi Setelah Pra-pemrosesan',size=16)\n",
        "plt.show()"
      ],
      "execution_count": 28,
      "outputs": [
        {
          "output_type": "display_data",
          "data": {
            "image/png": "[encoded data removed]",
            "text/plain": [
              "<Figure size 432x288 with 1 Axes>"
            ]
          },
          "metadata": {
            "needs_background": "light"
          }
        }
      ]
    },
    {
      "cell_type": "markdown",
      "metadata": {
        "id": "x0QwO9ZRYhlf"
      },
      "source": [
        "## 5) Menghapus Baris Nilai Kosong"
      ]
    },
    {
      "cell_type": "markdown",
      "metadata": {
        "id": "R1seg8C3fkIC"
      },
      "source": [
        "### Books"
      ]
    },
    {
      "cell_type": "code",
      "metadata": {
        "colab": {
          "base_uri": "https://localhost:8080/"
        },
        "id": "ZUULcud8vOTX",
        "outputId": "aa7bfa1d-389a-448e-cd9d-9d5cd3ef36b0"
      },
      "source": [
        "# Menampilkan jumlah nilai kosong pada df_buku\n",
        "df_buku.isna().sum()"
      ],
      "execution_count": 29,
      "outputs": [
        {
          "output_type": "execute_result",
          "data": {
            "text/plain": [
              "ISBN                   0\n",
              "book_title             0\n",
              "book_author            1\n",
              "year_of_publication    0\n",
              "Publisher              2\n",
              "Image-URL-S            0\n",
              "Image-URL-M            0\n",
              "Image-URL-L            3\n",
              "dtype: int64"
            ]
          },
          "metadata": {},
          "execution_count": 29
        }
      ]
    },
    {
      "cell_type": "code",
      "metadata": {
        "id": "aDNfk3gVYpXq",
        "colab": {
          "base_uri": "https://localhost:8080/"
        },
        "outputId": "fcd72f13-ad21-4ac2-b247-b064becfa284"
      },
      "source": [
        "# Drop baris dari df_buku yg memiliki nilai empty \n",
        "df_buku = df_buku.dropna()\n",
        "\n",
        "# Menampilkan kembali jumlah nilai kosong pada df_buku\n",
        "df_buku.isna().sum()"
      ],
      "execution_count": 30,
      "outputs": [
        {
          "output_type": "execute_result",
          "data": {
            "text/plain": [
              "ISBN                   0\n",
              "book_title             0\n",
              "book_author            0\n",
              "year_of_publication    0\n",
              "Publisher              0\n",
              "Image-URL-S            0\n",
              "Image-URL-M            0\n",
              "Image-URL-L            0\n",
              "dtype: int64"
            ]
          },
          "metadata": {},
          "execution_count": 30
        }
      ]
    },
    {
      "cell_type": "markdown",
      "metadata": {
        "id": "1HxGHYDafonp"
      },
      "source": [
        "### Ratings"
      ]
    },
    {
      "cell_type": "code",
      "metadata": {
        "colab": {
          "base_uri": "https://localhost:8080/",
          "height": 298
        },
        "id": "wPRohE1IfqNs",
        "outputId": "a691f7fc-65d3-405a-f54f-8d4c5b69c022"
      },
      "source": [
        "# Drop baris yg memiliki nilai rating 0 pada kolom book_rating dalam df_rate\n",
        "# Saat ini belum cukup informasi untuk mengolah penilaian implisit.\n",
        "index = df_rate.loc[df_rate['book_rating']==0].index\n",
        "df_rate.drop(index,inplace=True)\n",
        "\n",
        "# Menampilkan visualisasi distribusi nilai pada book_rating\n",
        "sns.countplot(data=df_rate , x='book_rating')\n",
        "plt.title('Distribusi Rating',size=16)\n",
        "plt.show()"
      ],
      "execution_count": 31,
      "outputs": [
        {
          "output_type": "display_data",
          "data": {
            "image/png": "[encoded data removed]",
            "text/plain": [
              "<Figure size 432x288 with 1 Axes>"
            ]
          },
          "metadata": {
            "needs_background": "light"
          }
        }
      ]
    },
    {
      "cell_type": "markdown",
      "metadata": {
        "id": "9-Zq5xGpfmun"
      },
      "source": [
        "### Users"
      ]
    },
    {
      "cell_type": "code",
      "metadata": {
        "colab": {
          "base_uri": "https://localhost:8080/"
        },
        "id": "VEjVi1n0ecLq",
        "outputId": "42ea78d6-2d93-4b27-8996-b4726c464d6a"
      },
      "source": [
        "# Menampilkan jumlah nilai kosong pada df_user\n",
        "df_user.isna().sum()"
      ],
      "execution_count": 32,
      "outputs": [
        {
          "output_type": "execute_result",
          "data": {
            "text/plain": [
              "user_id          0\n",
              "Location         0\n",
              "Age         110762\n",
              "dtype: int64"
            ]
          },
          "metadata": {},
          "execution_count": 32
        }
      ]
    },
    {
      "cell_type": "code",
      "metadata": {
        "colab": {
          "base_uri": "https://localhost:8080/",
          "height": 297
        },
        "id": "yKUBMXeCc9vc",
        "outputId": "30705306-0547-4c26-d3b5-7dc75fe8cee7"
      },
      "source": [
        "# Drop baris yg memiliki nilai empty pada df_user\n",
        "df_user = df_user.dropna()\n",
        "\n",
        "# Menampilkan distribusi nilai Age setelah pra pemrosesan\n",
        "sns.histplot(data=df_user , x='Age')\n",
        "plt.title('Distribusi Usia Setelah Pra-pemrosesan',size=16)\n",
        "plt.show()"
      ],
      "execution_count": 33,
      "outputs": [
        {
          "output_type": "display_data",
          "data": {
            "image/png": "[encoded data removed]",
            "text/plain": [
              "<Figure size 432x288 with 1 Axes>"
            ]
          },
          "metadata": {
            "needs_background": "light"
          }
        }
      ]
    },
    {
      "cell_type": "code",
      "metadata": {
        "colab": {
          "base_uri": "https://localhost:8080/"
        },
        "id": "khaH4-WPXGxW",
        "outputId": "008d23ce-8b67-4d02-dd8a-77bf8dc65e68"
      },
      "source": [
        "# Melihat kembali isi Age df_user\n",
        "print('Umur (Age) user: ', df_user['Age'].unique())"
      ],
      "execution_count": 34,
      "outputs": [
        {
          "output_type": "stream",
          "name": "stdout",
          "text": [
            "Umur (Age) user:  [18. 17. 61. 26. 14. 25. 19. 46. 55. 32. 24. 20. 34. 23. 51. 31. 21. 44.\n",
            " 30. 57. 43. 37. 41. 54. 42. 50. 39. 53. 47. 36. 28. 35. 13. 58. 49. 38.\n",
            " 45. 62. 63. 27. 33. 29. 66. 40. 15. 60. 79. 22. 16. 65. 59. 48. 72. 56.\n",
            " 67. 80. 52. 69. 71. 73. 78.  9. 64. 12. 74. 75. 76. 83. 68. 11. 77. 70.\n",
            "  8.  7. 81. 10.  6. 84. 82. 85. 86. 87. 89. 88.]\n"
          ]
        }
      ]
    },
    {
      "cell_type": "code",
      "metadata": {
        "colab": {
          "base_uri": "https://localhost:8080/"
        },
        "id": "iv9qX2azdIbG",
        "outputId": "23749053-c244-457b-d0d0-f18438e7d0d1"
      },
      "source": [
        "# Memeriksa kembali nilai kosong df_buku\n",
        "df_buku.isna().sum()"
      ],
      "execution_count": 35,
      "outputs": [
        {
          "output_type": "execute_result",
          "data": {
            "text/plain": [
              "ISBN                   0\n",
              "book_title             0\n",
              "book_author            0\n",
              "year_of_publication    0\n",
              "Publisher              0\n",
              "Image-URL-S            0\n",
              "Image-URL-M            0\n",
              "Image-URL-L            0\n",
              "dtype: int64"
            ]
          },
          "metadata": {},
          "execution_count": 35
        }
      ]
    },
    {
      "cell_type": "markdown",
      "metadata": {
        "id": "U_vidV8LX1DN"
      },
      "source": [
        "## 6) Menghapus Kolom yang Tidak Diperlukan\n"
      ]
    },
    {
      "cell_type": "code",
      "metadata": {
        "id": "czS4YI7HX_iW"
      },
      "source": [
        "# Drop kolom gambar pada df_buku\n",
        "df_buku.drop(['Image-URL-S','Image-URL-M','Image-URL-L'],axis=1,inplace=True)\n",
        "\n",
        "# Drop kolom Location pada df_user\n",
        "df_user.drop(['Location'],axis=1,inplace=True)"
      ],
      "execution_count": 36,
      "outputs": []
    },
    {
      "cell_type": "markdown",
      "metadata": {
        "id": "lMNDwg_ogWiu"
      },
      "source": [
        "## 7) Menggabungkan Data"
      ]
    },
    {
      "cell_type": "code",
      "metadata": {
        "colab": {
          "base_uri": "https://localhost:8080/"
        },
        "id": "uHQGGBq4_2yJ",
        "outputId": "305238a5-bd1b-47a0-bdfd-e8dff896f839"
      },
      "source": [
        "# Menggabungkan seluruh data\n",
        "df = pd.merge(df_rate, df_user[['user_id', 'Age']], on='user_id')\n",
        "df = pd.merge(df, df_buku[['book_title', 'ISBN', 'book_author', 'year_of_publication','Publisher']], on='ISBN')\n",
        "\n",
        "# Menampilkan informasi data yang telah digabungkan\n",
        "df.info()"
      ],
      "execution_count": 37,
      "outputs": [
        {
          "output_type": "stream",
          "name": "stdout",
          "text": [
            "<class 'pandas.core.frame.DataFrame'>\n",
            "Int64Index: 269617 entries, 0 to 269616\n",
            "Data columns (total 8 columns):\n",
            " #   Column               Non-Null Count   Dtype  \n",
            "---  ------               --------------   -----  \n",
            " 0   user_id              269617 non-null  int64  \n",
            " 1   ISBN                 269617 non-null  object \n",
            " 2   book_rating          269617 non-null  int64  \n",
            " 3   Age                  269617 non-null  float64\n",
            " 4   book_title           269617 non-null  object \n",
            " 5   book_author          269617 non-null  object \n",
            " 6   year_of_publication  269617 non-null  int64  \n",
            " 7   Publisher            269617 non-null  object \n",
            "dtypes: float64(1), int64(3), object(4)\n",
            "memory usage: 18.5+ MB\n"
          ]
        }
      ]
    },
    {
      "cell_type": "code",
      "metadata": {
        "colab": {
          "base_uri": "https://localhost:8080/"
        },
        "id": "r1LiYtsiNxWh",
        "outputId": "e25996ad-de93-4d6f-fc28-0b91c071de65"
      },
      "source": [
        "# Memeriksa kembali nilai kosong pada df yang telah digabungkan\n",
        "df.isnull().sum()"
      ],
      "execution_count": 38,
      "outputs": [
        {
          "output_type": "execute_result",
          "data": {
            "text/plain": [
              "user_id                0\n",
              "ISBN                   0\n",
              "book_rating            0\n",
              "Age                    0\n",
              "book_title             0\n",
              "book_author            0\n",
              "year_of_publication    0\n",
              "Publisher              0\n",
              "dtype: int64"
            ]
          },
          "metadata": {},
          "execution_count": 38
        }
      ]
    },
    {
      "cell_type": "markdown",
      "metadata": {
        "id": "vr6TK5r1hsNB"
      },
      "source": [
        "Terlihat tidak ada data kosong yang menandakan tidak perlu pembersihan kembali. Sebelum melanjutkan, kita bisa melihat daftar buku berdasarkan book_rating dan menampilkan data berdasarkan urutan buku yang diberikan penilaian buku paling tinggi."
      ]
    },
    {
      "cell_type": "code",
      "metadata": {
        "colab": {
          "base_uri": "https://localhost:8080/",
          "height": 390
        },
        "id": "Z2rnhGqCN1bu",
        "outputId": "dbe0ee65-06f9-4b87-9fd9-34a9847595a6"
      },
      "source": [
        "# Menampilkan 10 buku yang diberikan penilaian paling banyak\n",
        "df[['book_title', 'book_rating']].groupby('book_title').sum().sort_values('book_rating', ascending=False).head(10)"
      ],
      "execution_count": 39,
      "outputs": [
        {
          "output_type": "execute_result",
          "data": {
            "text/html": [
              "<div>\n",
              "<style scoped>\n",
              "    .dataframe tbody tr th:only-of-type {\n",
              "        vertical-align: middle;\n",
              "    }\n",
              "\n",
              "    .dataframe tbody tr th {\n",
              "        vertical-align: top;\n",
              "    }\n",
              "\n",
              "    .dataframe thead th {\n",
              "        text-align: right;\n",
              "    }\n",
              "</style>\n",
              "<table border=\"1\" class=\"dataframe\">\n",
              "  <thead>\n",
              "    <tr style=\"text-align: right;\">\n",
              "      <th></th>\n",
              "      <th>book_rating</th>\n",
              "    </tr>\n",
              "    <tr>\n",
              "      <th>book_title</th>\n",
              "      <th></th>\n",
              "    </tr>\n",
              "  </thead>\n",
              "  <tbody>\n",
              "    <tr>\n",
              "      <th>The Lovely Bones: A Novel</th>\n",
              "      <td>3899</td>\n",
              "    </tr>\n",
              "    <tr>\n",
              "      <th>The Da Vinci Code</th>\n",
              "      <td>3207</td>\n",
              "    </tr>\n",
              "    <tr>\n",
              "      <th>The Secret Life of Bees</th>\n",
              "      <td>2373</td>\n",
              "    </tr>\n",
              "    <tr>\n",
              "      <th>Harry Potter and the Chamber of Secrets (Book 2)</th>\n",
              "      <td>2188</td>\n",
              "    </tr>\n",
              "    <tr>\n",
              "      <th>Wild Animus</th>\n",
              "      <td>2118</td>\n",
              "    </tr>\n",
              "    <tr>\n",
              "      <th>Angels &amp;amp; Demons</th>\n",
              "      <td>2085</td>\n",
              "    </tr>\n",
              "    <tr>\n",
              "      <th>Bridget Jones's Diary</th>\n",
              "      <td>2037</td>\n",
              "    </tr>\n",
              "    <tr>\n",
              "      <th>Life of Pi</th>\n",
              "      <td>2036</td>\n",
              "    </tr>\n",
              "    <tr>\n",
              "      <th>Harry Potter and the Sorcerer's Stone (Harry Potter (Paperback))</th>\n",
              "      <td>2019</td>\n",
              "    </tr>\n",
              "    <tr>\n",
              "      <th>Harry Potter and the Prisoner of Azkaban (Book 3)</th>\n",
              "      <td>1987</td>\n",
              "    </tr>\n",
              "  </tbody>\n",
              "</table>\n",
              "</div>"
            ],
            "text/plain": [
              "                                                                  book_rating\n",
              "book_title                                                                   \n",
              "The Lovely Bones: A Novel                                                3899\n",
              "The Da Vinci Code                                                        3207\n",
              "The Secret Life of Bees                                                  2373\n",
              "Harry Potter and the Chamber of Secrets (Book 2)                         2188\n",
              "Wild Animus                                                              2118\n",
              "Angels &amp; Demons                                                      2085\n",
              "Bridget Jones's Diary                                                    2037\n",
              "Life of Pi                                                               2036\n",
              "Harry Potter and the Sorcerer's Stone (Harry Potter (Paperback))         2019\n",
              "Harry Potter and the Prisoner of Azkaban (Book 3)                        1987"
            ]
          },
          "metadata": {},
          "execution_count": 39
        }
      ]
    },
    {
      "cell_type": "markdown",
      "metadata": {
        "id": "zLLuceD4jSy2"
      },
      "source": [
        "## 8) Mengelompokkan dan Mengurutkan Data"
      ]
    },
    {
      "cell_type": "code",
      "metadata": {
        "id": "YwDrzKQn0wx4",
        "colab": {
          "base_uri": "https://localhost:8080/",
          "height": 606
        },
        "outputId": "f8cce3ff-71ae-4799-a741-d84646d5262f"
      },
      "source": [
        "# Menghimpun/mengelompokkan data berdasarkan book_title\n",
        "df = df.groupby('book_title', as_index=False).agg({\n",
        "    'user_id':'first',\n",
        "    'ISBN':'first',\n",
        "    'book_rating':'sum', # menghitung total jumlah book_rating\n",
        "    'Age':'first',\n",
        "    'book_title':'first',\n",
        "    'book_author':'first',\n",
        "    'year_of_publication':'first',\n",
        "    'Publisher':'first',\n",
        "    }).sort_values('book_rating', ascending=False) # diurutkan berdasarkan book_rating\n",
        "df"
      ],
      "execution_count": 40,
      "outputs": [
        {
          "output_type": "execute_result",
          "data": {
            "text/html": [
              "<div>\n",
              "<style scoped>\n",
              "    .dataframe tbody tr th:only-of-type {\n",
              "        vertical-align: middle;\n",
              "    }\n",
              "\n",
              "    .dataframe tbody tr th {\n",
              "        vertical-align: top;\n",
              "    }\n",
              "\n",
              "    .dataframe thead th {\n",
              "        text-align: right;\n",
              "    }\n",
              "</style>\n",
              "<table border=\"1\" class=\"dataframe\">\n",
              "  <thead>\n",
              "    <tr style=\"text-align: right;\">\n",
              "      <th></th>\n",
              "      <th>user_id</th>\n",
              "      <th>ISBN</th>\n",
              "      <th>book_rating</th>\n",
              "      <th>Age</th>\n",
              "      <th>book_title</th>\n",
              "      <th>book_author</th>\n",
              "      <th>year_of_publication</th>\n",
              "      <th>Publisher</th>\n",
              "    </tr>\n",
              "  </thead>\n",
              "  <tbody>\n",
              "    <tr>\n",
              "      <th>88963</th>\n",
              "      <td>277439</td>\n",
              "      <td>0316666343</td>\n",
              "      <td>3899</td>\n",
              "      <td>65.0</td>\n",
              "      <td>The Lovely Bones: A Novel</td>\n",
              "      <td>Alice Sebold</td>\n",
              "      <td>2002</td>\n",
              "      <td>Little, Brown</td>\n",
              "    </tr>\n",
              "    <tr>\n",
              "      <th>82846</th>\n",
              "      <td>276925</td>\n",
              "      <td>0385504209</td>\n",
              "      <td>3207</td>\n",
              "      <td>22.0</td>\n",
              "      <td>The Da Vinci Code</td>\n",
              "      <td>Dan Brown</td>\n",
              "      <td>2003</td>\n",
              "      <td>Doubleday</td>\n",
              "    </tr>\n",
              "    <tr>\n",
              "      <th>93718</th>\n",
              "      <td>277803</td>\n",
              "      <td>0142001740</td>\n",
              "      <td>2373</td>\n",
              "      <td>17.0</td>\n",
              "      <td>The Secret Life of Bees</td>\n",
              "      <td>Sue Monk Kidd</td>\n",
              "      <td>2003</td>\n",
              "      <td>Penguin Books</td>\n",
              "    </tr>\n",
              "    <tr>\n",
              "      <th>36566</th>\n",
              "      <td>278356</td>\n",
              "      <td>0439064872</td>\n",
              "      <td>2188</td>\n",
              "      <td>57.0</td>\n",
              "      <td>Harry Potter and the Chamber of Secrets (Book 2)</td>\n",
              "      <td>J. K. Rowling</td>\n",
              "      <td>2000</td>\n",
              "      <td>Scholastic</td>\n",
              "    </tr>\n",
              "    <tr>\n",
              "      <th>106573</th>\n",
              "      <td>278176</td>\n",
              "      <td>0971880107</td>\n",
              "      <td>2118</td>\n",
              "      <td>21.0</td>\n",
              "      <td>Wild Animus</td>\n",
              "      <td>Rich Shapero</td>\n",
              "      <td>2004</td>\n",
              "      <td>Too Far</td>\n",
              "    </tr>\n",
              "    <tr>\n",
              "      <th>...</th>\n",
              "      <td>...</td>\n",
              "      <td>...</td>\n",
              "      <td>...</td>\n",
              "      <td>...</td>\n",
              "      <td>...</td>\n",
              "      <td>...</td>\n",
              "      <td>...</td>\n",
              "      <td>...</td>\n",
              "    </tr>\n",
              "    <tr>\n",
              "      <th>22624</th>\n",
              "      <td>181176</td>\n",
              "      <td>0809134144</td>\n",
              "      <td>1</td>\n",
              "      <td>43.0</td>\n",
              "      <td>Dialogue About Catholic Sexual Teaching (Readings in Moral Theology, No 8)</td>\n",
              "      <td>Charles E. Curran</td>\n",
              "      <td>1993</td>\n",
              "      <td>Paulist Pr</td>\n",
              "    </tr>\n",
              "    <tr>\n",
              "      <th>77560</th>\n",
              "      <td>170595</td>\n",
              "      <td>0373033672</td>\n",
              "      <td>1</td>\n",
              "      <td>34.0</td>\n",
              "      <td>Taming A Tycoon (Harlequin Romance, No 3367)</td>\n",
              "      <td>Fern Michaels</td>\n",
              "      <td>1995</td>\n",
              "      <td>Harlequin</td>\n",
              "    </tr>\n",
              "    <tr>\n",
              "      <th>2634</th>\n",
              "      <td>15258</td>\n",
              "      <td>0226437396</td>\n",
              "      <td>1</td>\n",
              "      <td>26.0</td>\n",
              "      <td>A Poet's Guide to Poetry (Chicago Guides to Writing, Editing, and Publishing)</td>\n",
              "      <td>Mary Kinzie</td>\n",
              "      <td>1999</td>\n",
              "      <td>University of Chicago Press</td>\n",
              "    </tr>\n",
              "    <tr>\n",
              "      <th>7488</th>\n",
              "      <td>81298</td>\n",
              "      <td>0740704826</td>\n",
              "      <td>1</td>\n",
              "      <td>20.0</td>\n",
              "      <td>Art and Soul</td>\n",
              "      <td>Pam Grout</td>\n",
              "      <td>2000</td>\n",
              "      <td>Andrews McMeel Publishing</td>\n",
              "    </tr>\n",
              "    <tr>\n",
              "      <th>92339</th>\n",
              "      <td>33888</td>\n",
              "      <td>078691324X</td>\n",
              "      <td>1</td>\n",
              "      <td>48.0</td>\n",
              "      <td>The Puppet King (Dragonlance Chaos Wars, Vol. 3)</td>\n",
              "      <td>Douglas Niles</td>\n",
              "      <td>1999</td>\n",
              "      <td>Wizards of the Coast</td>\n",
              "    </tr>\n",
              "  </tbody>\n",
              "</table>\n",
              "<p>109209 rows × 8 columns</p>\n",
              "</div>"
            ],
            "text/plain": [
              "        user_id        ISBN  book_rating   Age  \\\n",
              "88963    277439  0316666343         3899  65.0   \n",
              "82846    276925  0385504209         3207  22.0   \n",
              "93718    277803  0142001740         2373  17.0   \n",
              "36566    278356  0439064872         2188  57.0   \n",
              "106573   278176  0971880107         2118  21.0   \n",
              "...         ...         ...          ...   ...   \n",
              "22624    181176  0809134144            1  43.0   \n",
              "77560    170595  0373033672            1  34.0   \n",
              "2634      15258  0226437396            1  26.0   \n",
              "7488      81298  0740704826            1  20.0   \n",
              "92339     33888  078691324X            1  48.0   \n",
              "\n",
              "                                                                           book_title  \\\n",
              "88963                                                       The Lovely Bones: A Novel   \n",
              "82846                                                               The Da Vinci Code   \n",
              "93718                                                         The Secret Life of Bees   \n",
              "36566                                Harry Potter and the Chamber of Secrets (Book 2)   \n",
              "106573                                                                    Wild Animus   \n",
              "...                                                                               ...   \n",
              "22624      Dialogue About Catholic Sexual Teaching (Readings in Moral Theology, No 8)   \n",
              "77560                                    Taming A Tycoon (Harlequin Romance, No 3367)   \n",
              "2634    A Poet's Guide to Poetry (Chicago Guides to Writing, Editing, and Publishing)   \n",
              "7488                                                                     Art and Soul   \n",
              "92339                                The Puppet King (Dragonlance Chaos Wars, Vol. 3)   \n",
              "\n",
              "              book_author  year_of_publication                    Publisher  \n",
              "88963        Alice Sebold                 2002                Little, Brown  \n",
              "82846           Dan Brown                 2003                    Doubleday  \n",
              "93718       Sue Monk Kidd                 2003                Penguin Books  \n",
              "36566       J. K. Rowling                 2000                   Scholastic  \n",
              "106573       Rich Shapero                 2004                      Too Far  \n",
              "...                   ...                  ...                          ...  \n",
              "22624   Charles E. Curran                 1993                   Paulist Pr  \n",
              "77560       Fern Michaels                 1995                    Harlequin  \n",
              "2634          Mary Kinzie                 1999  University of Chicago Press  \n",
              "7488            Pam Grout                 2000    Andrews McMeel Publishing  \n",
              "92339       Douglas Niles                 1999         Wizards of the Coast  \n",
              "\n",
              "[109209 rows x 8 columns]"
            ]
          },
          "metadata": {},
          "execution_count": 40
        }
      ]
    },
    {
      "cell_type": "markdown",
      "metadata": {
        "id": "ezN1uj_Hk2GE"
      },
      "source": [
        "## 9) Mengambil Sampel Data"
      ]
    },
    {
      "cell_type": "code",
      "metadata": {
        "colab": {
          "base_uri": "https://localhost:8080/",
          "height": 382
        },
        "id": "3z7Y7Mlmk7CG",
        "outputId": "864a5ef0-68dd-4f11-e19c-9122810073fe"
      },
      "source": [
        "# Mengambil 10.000 baris dari df sebagai sample\n",
        "df_sample = df.sample(10000).copy()\n",
        "\n",
        "# Menampilkan baris unik df_sample\n",
        "print(len(df_sample.book_title.unique()))    # Jumlah judul buku\n",
        "print(len(df_sample.ISBN.unique()))          # Jumlah ISBN\n",
        "print(len(df_sample.user_id.unique()))       # Jumlah user id\n",
        "print(len(df_sample.Publisher.unique()))     # Jumlah penerbit\n",
        "print(len(df_sample.book_author.unique()))   # Jumlah penulis buku\n",
        "\n",
        "df_sample.describe()"
      ],
      "execution_count": 41,
      "outputs": [
        {
          "output_type": "stream",
          "name": "stdout",
          "text": [
            "10000\n",
            "10000\n",
            "4927\n",
            "2496\n",
            "7792\n"
          ]
        },
        {
          "output_type": "execute_result",
          "data": {
            "text/html": [
              "<div>\n",
              "<style scoped>\n",
              "    .dataframe tbody tr th:only-of-type {\n",
              "        vertical-align: middle;\n",
              "    }\n",
              "\n",
              "    .dataframe tbody tr th {\n",
              "        vertical-align: top;\n",
              "    }\n",
              "\n",
              "    .dataframe thead th {\n",
              "        text-align: right;\n",
              "    }\n",
              "</style>\n",
              "<table border=\"1\" class=\"dataframe\">\n",
              "  <thead>\n",
              "    <tr style=\"text-align: right;\">\n",
              "      <th></th>\n",
              "      <th>user_id</th>\n",
              "      <th>book_rating</th>\n",
              "      <th>Age</th>\n",
              "      <th>year_of_publication</th>\n",
              "    </tr>\n",
              "  </thead>\n",
              "  <tbody>\n",
              "    <tr>\n",
              "      <th>count</th>\n",
              "      <td>10000.000000</td>\n",
              "      <td>10000.000000</td>\n",
              "      <td>10000.000000</td>\n",
              "      <td>10000.000000</td>\n",
              "    </tr>\n",
              "    <tr>\n",
              "      <th>mean</th>\n",
              "      <td>117545.888800</td>\n",
              "      <td>18.444300</td>\n",
              "      <td>37.062100</td>\n",
              "      <td>1995.200800</td>\n",
              "    </tr>\n",
              "    <tr>\n",
              "      <th>std</th>\n",
              "      <td>79685.111319</td>\n",
              "      <td>44.382274</td>\n",
              "      <td>12.310751</td>\n",
              "      <td>7.172965</td>\n",
              "    </tr>\n",
              "    <tr>\n",
              "      <th>min</th>\n",
              "      <td>70.000000</td>\n",
              "      <td>1.000000</td>\n",
              "      <td>6.000000</td>\n",
              "      <td>1961.000000</td>\n",
              "    </tr>\n",
              "    <tr>\n",
              "      <th>25%</th>\n",
              "      <td>49109.000000</td>\n",
              "      <td>7.000000</td>\n",
              "      <td>28.000000</td>\n",
              "      <td>1991.000000</td>\n",
              "    </tr>\n",
              "    <tr>\n",
              "      <th>50%</th>\n",
              "      <td>101209.000000</td>\n",
              "      <td>9.000000</td>\n",
              "      <td>35.000000</td>\n",
              "      <td>1997.000000</td>\n",
              "    </tr>\n",
              "    <tr>\n",
              "      <th>75%</th>\n",
              "      <td>180780.000000</td>\n",
              "      <td>15.000000</td>\n",
              "      <td>47.000000</td>\n",
              "      <td>2001.000000</td>\n",
              "    </tr>\n",
              "    <tr>\n",
              "      <th>max</th>\n",
              "      <td>278851.000000</td>\n",
              "      <td>1502.000000</td>\n",
              "      <td>84.000000</td>\n",
              "      <td>2005.000000</td>\n",
              "    </tr>\n",
              "  </tbody>\n",
              "</table>\n",
              "</div>"
            ],
            "text/plain": [
              "             user_id   book_rating           Age  year_of_publication\n",
              "count   10000.000000  10000.000000  10000.000000         10000.000000\n",
              "mean   117545.888800     18.444300     37.062100          1995.200800\n",
              "std     79685.111319     44.382274     12.310751             7.172965\n",
              "min        70.000000      1.000000      6.000000          1961.000000\n",
              "25%     49109.000000      7.000000     28.000000          1991.000000\n",
              "50%    101209.000000      9.000000     35.000000          1997.000000\n",
              "75%    180780.000000     15.000000     47.000000          2001.000000\n",
              "max    278851.000000   1502.000000     84.000000          2005.000000"
            ]
          },
          "metadata": {},
          "execution_count": 41
        }
      ]
    },
    {
      "cell_type": "markdown",
      "metadata": {
        "id": "gEQwtQYVmEJB"
      },
      "source": [
        "## 10) Encoding Fitur"
      ]
    },
    {
      "cell_type": "code",
      "metadata": {
        "colab": {
          "base_uri": "https://localhost:8080/"
        },
        "id": "QWSFFpKdmGH_",
        "outputId": "b01a325e-b121-4879-8d13-78d70701c10c"
      },
      "source": [
        "# Encoding fitur user_id dan isbn\n",
        "# Fitur user_id\n",
        "user_id = df_sample['user_id'].unique().tolist()\n",
        "encoded_user_id = {x: i for i, x in enumerate(user_id)}\n",
        "\n",
        "# Fitur ISBN \n",
        "isbn = df_sample['ISBN'].tolist()\n",
        "encoded_isbn = {x: i for i, x in enumerate(isbn)}\n",
        "isbn_encoded_to_isbn = {i: x for i, x in enumerate(isbn)}\n",
        "\n",
        "# Memetakan user_id dan isbn ke df_sample\n",
        "df_sample['encoded_user'] = df_sample['user_id'].map(encoded_user_id)\n",
        "df_sample['encoded_isbn'] = df_sample['ISBN'].map(encoded_isbn)\n",
        "\n",
        "# Mendapatkan jumlah user serta isbn\n",
        "num_users = len(encoded_user_id)\n",
        "num_isbn = len(isbn_encoded_to_isbn)\n",
        " \n",
        "# Mengubah book_rating menjadi nilai float\n",
        "df_sample['book_rating'] = df_sample['book_rating'].values.astype(np.float32)\n",
        " \n",
        "# Nilai minimum serta maksimum book_rating\n",
        "min_rating = min(df_sample['book_rating'])\n",
        "max_rating = max(df_sample['book_rating'])\n",
        "\n",
        "# Lihat hasilnya\n",
        "print('Minimal Rating: {}\\nMaksimal Rating: {}'.format(\n",
        "    min_rating, max_rating\n",
        "))"
      ],
      "execution_count": 42,
      "outputs": [
        {
          "output_type": "stream",
          "name": "stdout",
          "text": [
            "Minimal Rating: 1.0\n",
            "Maksimal Rating: 1502.0\n"
          ]
        }
      ]
    },
    {
      "cell_type": "code",
      "metadata": {
        "colab": {
          "base_uri": "https://localhost:8080/",
          "height": 819
        },
        "id": "FsEbrKQmvZpK",
        "outputId": "ed217b75-01a4-4875-aea2-34e341468911"
      },
      "source": [
        "# Lihat kembali data df_sample\n",
        "print(df_sample.info())\n",
        "df_sample.head()"
      ],
      "execution_count": 43,
      "outputs": [
        {
          "output_type": "stream",
          "name": "stdout",
          "text": [
            "<class 'pandas.core.frame.DataFrame'>\n",
            "Int64Index: 10000 entries, 5973 to 15692\n",
            "Data columns (total 10 columns):\n",
            " #   Column               Non-Null Count  Dtype  \n",
            "---  ------               --------------  -----  \n",
            " 0   user_id              10000 non-null  int64  \n",
            " 1   ISBN                 10000 non-null  object \n",
            " 2   book_rating          10000 non-null  float32\n",
            " 3   Age                  10000 non-null  float64\n",
            " 4   book_title           10000 non-null  object \n",
            " 5   book_author          10000 non-null  object \n",
            " 6   year_of_publication  10000 non-null  int64  \n",
            " 7   Publisher            10000 non-null  object \n",
            " 8   encoded_user         10000 non-null  int64  \n",
            " 9   encoded_isbn         10000 non-null  int64  \n",
            "dtypes: float32(1), float64(1), int64(4), object(4)\n",
            "memory usage: 820.3+ KB\n",
            "None\n"
          ]
        },
        {
          "output_type": "execute_result",
          "data": {
            "text/html": [
              "<div>\n",
              "<style scoped>\n",
              "    .dataframe tbody tr th:only-of-type {\n",
              "        vertical-align: middle;\n",
              "    }\n",
              "\n",
              "    .dataframe tbody tr th {\n",
              "        vertical-align: top;\n",
              "    }\n",
              "\n",
              "    .dataframe thead th {\n",
              "        text-align: right;\n",
              "    }\n",
              "</style>\n",
              "<table border=\"1\" class=\"dataframe\">\n",
              "  <thead>\n",
              "    <tr style=\"text-align: right;\">\n",
              "      <th></th>\n",
              "      <th>user_id</th>\n",
              "      <th>ISBN</th>\n",
              "      <th>book_rating</th>\n",
              "      <th>Age</th>\n",
              "      <th>book_title</th>\n",
              "      <th>book_author</th>\n",
              "      <th>year_of_publication</th>\n",
              "      <th>Publisher</th>\n",
              "      <th>encoded_user</th>\n",
              "      <th>encoded_isbn</th>\n",
              "    </tr>\n",
              "  </thead>\n",
              "  <tbody>\n",
              "    <tr>\n",
              "      <th>5973</th>\n",
              "      <td>132836</td>\n",
              "      <td>0375419802</td>\n",
              "      <td>10.0</td>\n",
              "      <td>57.0</td>\n",
              "      <td>An Album of Memories</td>\n",
              "      <td>Tom Brokaw</td>\n",
              "      <td>2001</td>\n",
              "      <td>Random House Audio Publishing Group</td>\n",
              "      <td>0</td>\n",
              "      <td>0</td>\n",
              "    </tr>\n",
              "    <tr>\n",
              "      <th>77593</th>\n",
              "      <td>86290</td>\n",
              "      <td>0590660926</td>\n",
              "      <td>13.0</td>\n",
              "      <td>17.0</td>\n",
              "      <td>Tangerine</td>\n",
              "      <td>Edward Bloor</td>\n",
              "      <td>1997</td>\n",
              "      <td>Scholastic, Inc</td>\n",
              "      <td>1</td>\n",
              "      <td>1</td>\n",
              "    </tr>\n",
              "    <tr>\n",
              "      <th>27221</th>\n",
              "      <td>58156</td>\n",
              "      <td>0821405691</td>\n",
              "      <td>9.0</td>\n",
              "      <td>58.0</td>\n",
              "      <td>Elegant Nightmares: The English Ghost Story from Le Fanu to Blackwood</td>\n",
              "      <td>Jack Sullivan</td>\n",
              "      <td>1980</td>\n",
              "      <td>Ohio Univ Pr</td>\n",
              "      <td>2</td>\n",
              "      <td>2</td>\n",
              "    </tr>\n",
              "    <tr>\n",
              "      <th>28120</th>\n",
              "      <td>10546</td>\n",
              "      <td>354835985X</td>\n",
              "      <td>10.0</td>\n",
              "      <td>28.0</td>\n",
              "      <td>Erste Person Plural. Die Geschichte meiner vielen PersÃ?Â¶nlichkeiten.</td>\n",
              "      <td>Cameron West</td>\n",
              "      <td>2000</td>\n",
              "      <td>Ullstein Tb</td>\n",
              "      <td>3</td>\n",
              "      <td>3</td>\n",
              "    </tr>\n",
              "    <tr>\n",
              "      <th>65236</th>\n",
              "      <td>56856</td>\n",
              "      <td>0571199976</td>\n",
              "      <td>7.0</td>\n",
              "      <td>23.0</td>\n",
              "      <td>Proof: A Play</td>\n",
              "      <td>David Auburn</td>\n",
              "      <td>2001</td>\n",
              "      <td>Faber &amp;amp; Faber</td>\n",
              "      <td>4</td>\n",
              "      <td>4</td>\n",
              "    </tr>\n",
              "  </tbody>\n",
              "</table>\n",
              "</div>"
            ],
            "text/plain": [
              "       user_id        ISBN  book_rating   Age  \\\n",
              "5973    132836  0375419802         10.0  57.0   \n",
              "77593    86290  0590660926         13.0  17.0   \n",
              "27221    58156  0821405691          9.0  58.0   \n",
              "28120    10546  354835985X         10.0  28.0   \n",
              "65236    56856  0571199976          7.0  23.0   \n",
              "\n",
              "                                                                   book_title  \\\n",
              "5973                                                     An Album of Memories   \n",
              "77593                                                               Tangerine   \n",
              "27221   Elegant Nightmares: The English Ghost Story from Le Fanu to Blackwood   \n",
              "28120  Erste Person Plural. Die Geschichte meiner vielen PersÃ?Â¶nlichkeiten.   \n",
              "65236                                                           Proof: A Play   \n",
              "\n",
              "         book_author  year_of_publication  \\\n",
              "5973      Tom Brokaw                 2001   \n",
              "77593   Edward Bloor                 1997   \n",
              "27221  Jack Sullivan                 1980   \n",
              "28120   Cameron West                 2000   \n",
              "65236   David Auburn                 2001   \n",
              "\n",
              "                                 Publisher  encoded_user  encoded_isbn  \n",
              "5973   Random House Audio Publishing Group             0             0  \n",
              "77593                      Scholastic, Inc             1             1  \n",
              "27221                         Ohio Univ Pr             2             2  \n",
              "28120                          Ullstein Tb             3             3  \n",
              "65236                    Faber &amp; Faber             4             4  "
            ]
          },
          "metadata": {},
          "execution_count": 43
        }
      ]
    },
    {
      "cell_type": "markdown",
      "metadata": {
        "id": "xQSTRxc_lPU5"
      },
      "source": [
        "## 11) Pembagian Dataset"
      ]
    },
    {
      "cell_type": "code",
      "metadata": {
        "id": "e1pQ47TglhSi"
      },
      "source": [
        "# Membuat variabel x untuk mencocokkan data user dan resto menjadi satu value\n",
        "x = df_sample[['encoded_user', 'encoded_isbn']].values\n",
        " \n",
        "# Membuat variabel y untuk membuat rating dari hasil dengan scaling\n",
        "y = df_sample['book_rating'].apply(lambda x: (x - min_rating) / (max_rating - min_rating)).values\n",
        "\n",
        "# Membagi menjadi 80% data train dan 20% data validasi\n",
        "split_size = int(0.8 * df_sample.shape[0])\n",
        "x_train, x_val, y_train, y_val = (\n",
        "    x[:split_size],\n",
        "    x[split_size:],\n",
        "    y[:split_size],\n",
        "    y[split_size:]\n",
        ")"
      ],
      "execution_count": 44,
      "outputs": []
    },
    {
      "cell_type": "markdown",
      "metadata": {
        "id": "bJQ_UvDYFtkv"
      },
      "source": [
        "# Modeling"
      ]
    },
    {
      "cell_type": "markdown",
      "metadata": {
        "id": "IvYI6NlTGKJx"
      },
      "source": [
        "## 12) Membuat Model dengan Content Based Filtering"
      ]
    },
    {
      "cell_type": "code",
      "metadata": {
        "colab": {
          "base_uri": "https://localhost:8080/",
          "height": 204
        },
        "id": "UJNEGUbzMUDJ",
        "outputId": "6199ba53-79c8-433b-bb39-473a6bd90f18"
      },
      "source": [
        "# Membuat dataframe baru untuk Content Based Filtering (CBF)\n",
        "df_new = pd.DataFrame({\n",
        "    'ISBN': df_sample['ISBN'].tolist(),\n",
        "    'book_title': df_sample['book_title'].tolist(),\n",
        "    'book_author': df_sample['book_author'].tolist()\n",
        "})\n",
        "df_new.head()"
      ],
      "execution_count": 45,
      "outputs": [
        {
          "output_type": "execute_result",
          "data": {
            "text/html": [
              "<div>\n",
              "<style scoped>\n",
              "    .dataframe tbody tr th:only-of-type {\n",
              "        vertical-align: middle;\n",
              "    }\n",
              "\n",
              "    .dataframe tbody tr th {\n",
              "        vertical-align: top;\n",
              "    }\n",
              "\n",
              "    .dataframe thead th {\n",
              "        text-align: right;\n",
              "    }\n",
              "</style>\n",
              "<table border=\"1\" class=\"dataframe\">\n",
              "  <thead>\n",
              "    <tr style=\"text-align: right;\">\n",
              "      <th></th>\n",
              "      <th>ISBN</th>\n",
              "      <th>book_title</th>\n",
              "      <th>book_author</th>\n",
              "    </tr>\n",
              "  </thead>\n",
              "  <tbody>\n",
              "    <tr>\n",
              "      <th>0</th>\n",
              "      <td>0375419802</td>\n",
              "      <td>An Album of Memories</td>\n",
              "      <td>Tom Brokaw</td>\n",
              "    </tr>\n",
              "    <tr>\n",
              "      <th>1</th>\n",
              "      <td>0590660926</td>\n",
              "      <td>Tangerine</td>\n",
              "      <td>Edward Bloor</td>\n",
              "    </tr>\n",
              "    <tr>\n",
              "      <th>2</th>\n",
              "      <td>0821405691</td>\n",
              "      <td>Elegant Nightmares: The English Ghost Story from Le Fanu to Blackwood</td>\n",
              "      <td>Jack Sullivan</td>\n",
              "    </tr>\n",
              "    <tr>\n",
              "      <th>3</th>\n",
              "      <td>354835985X</td>\n",
              "      <td>Erste Person Plural. Die Geschichte meiner vielen PersÃ?Â¶nlichkeiten.</td>\n",
              "      <td>Cameron West</td>\n",
              "    </tr>\n",
              "    <tr>\n",
              "      <th>4</th>\n",
              "      <td>0571199976</td>\n",
              "      <td>Proof: A Play</td>\n",
              "      <td>David Auburn</td>\n",
              "    </tr>\n",
              "  </tbody>\n",
              "</table>\n",
              "</div>"
            ],
            "text/plain": [
              "         ISBN  \\\n",
              "0  0375419802   \n",
              "1  0590660926   \n",
              "2  0821405691   \n",
              "3  354835985X   \n",
              "4  0571199976   \n",
              "\n",
              "                                                               book_title  \\\n",
              "0                                                    An Album of Memories   \n",
              "1                                                               Tangerine   \n",
              "2   Elegant Nightmares: The English Ghost Story from Le Fanu to Blackwood   \n",
              "3  Erste Person Plural. Die Geschichte meiner vielen PersÃ?Â¶nlichkeiten.   \n",
              "4                                                           Proof: A Play   \n",
              "\n",
              "     book_author  \n",
              "0     Tom Brokaw  \n",
              "1   Edward Bloor  \n",
              "2  Jack Sullivan  \n",
              "3   Cameron West  \n",
              "4   David Auburn  "
            ]
          },
          "metadata": {},
          "execution_count": 45
        }
      ]
    },
    {
      "cell_type": "code",
      "metadata": {
        "id": "A29H_x9ViOZo"
      },
      "source": [
        "# Mempersiapkan TF IDF\n",
        "tfidf = TfidfVectorizer()\n",
        "tfidf.fit(df_new['book_author'])\n",
        "\n",
        "# Mengubah dalam bentuk matriks TF IDF\n",
        "tfidf_matrix = tfidf.fit_transform(df_new['book_author'])"
      ],
      "execution_count": 46,
      "outputs": []
    },
    {
      "cell_type": "code",
      "metadata": {
        "id": "vsgcF8SMip58",
        "colab": {
          "base_uri": "https://localhost:8080/",
          "height": 611
        },
        "outputId": "a1b8538c-bed5-4c11-8427-06cb2abf2829"
      },
      "source": [
        "# Menghitung cosine similarity pada matrix tf-idf\n",
        "cosine_sim = cosine_similarity(tfidf_matrix) \n",
        "\n",
        "# Membuat dataframe dari variabel cosine_sim dengan baris dan kolom dari judul buku\n",
        "cosine_sim_df = pd.DataFrame(cosine_sim,\n",
        "                             index=df_new['book_title'],\n",
        "                             columns=df_new['book_title'])\n",
        "print('Shape:', cosine_sim_df.shape)\n",
        " \n",
        "# Melihat similarity matrix\n",
        "cosine_sim_df.sample(5, axis=1).sample(10, axis=0)"
      ],
      "execution_count": 47,
      "outputs": [
        {
          "output_type": "stream",
          "name": "stdout",
          "text": [
            "Shape: (10000, 10000)\n"
          ]
        },
        {
          "output_type": "execute_result",
          "data": {
            "text/html": [
              "<div>\n",
              "<style scoped>\n",
              "    .dataframe tbody tr th:only-of-type {\n",
              "        vertical-align: middle;\n",
              "    }\n",
              "\n",
              "    .dataframe tbody tr th {\n",
              "        vertical-align: top;\n",
              "    }\n",
              "\n",
              "    .dataframe thead th {\n",
              "        text-align: right;\n",
              "    }\n",
              "</style>\n",
              "<table border=\"1\" class=\"dataframe\">\n",
              "  <thead>\n",
              "    <tr style=\"text-align: right;\">\n",
              "      <th>book_title</th>\n",
              "      <th>Byrne's New Standard Book of Pool and Billiards</th>\n",
              "      <th>Life!: Reflections on Your Journey</th>\n",
              "      <th>Stupidario medico (Biblioteca umoristica Mondadori)</th>\n",
              "      <th>Women's Strength Training Anatomy</th>\n",
              "      <th>Writers Of The Purple Sage</th>\n",
              "    </tr>\n",
              "    <tr>\n",
              "      <th>book_title</th>\n",
              "      <th></th>\n",
              "      <th></th>\n",
              "      <th></th>\n",
              "      <th></th>\n",
              "      <th></th>\n",
              "    </tr>\n",
              "  </thead>\n",
              "  <tbody>\n",
              "    <tr>\n",
              "      <th>Dance of the Scarecrows: A Jonathan Wilder Mystery</th>\n",
              "      <td>0.0</td>\n",
              "      <td>0.0</td>\n",
              "      <td>0.0</td>\n",
              "      <td>0.0</td>\n",
              "      <td>0.0</td>\n",
              "    </tr>\n",
              "    <tr>\n",
              "      <th>Cracker Factory</th>\n",
              "      <td>0.0</td>\n",
              "      <td>0.0</td>\n",
              "      <td>0.0</td>\n",
              "      <td>0.0</td>\n",
              "      <td>0.0</td>\n",
              "    </tr>\n",
              "    <tr>\n",
              "      <th>Wind Spirit (Ella Clah)</th>\n",
              "      <td>0.0</td>\n",
              "      <td>0.0</td>\n",
              "      <td>0.0</td>\n",
              "      <td>0.0</td>\n",
              "      <td>0.0</td>\n",
              "    </tr>\n",
              "    <tr>\n",
              "      <th>Die Kugeln in unseren KÃ?Â¶pfen. Kolumnen.</th>\n",
              "      <td>0.0</td>\n",
              "      <td>0.0</td>\n",
              "      <td>0.0</td>\n",
              "      <td>0.0</td>\n",
              "      <td>0.0</td>\n",
              "    </tr>\n",
              "    <tr>\n",
              "      <th>What's Heaven?</th>\n",
              "      <td>0.0</td>\n",
              "      <td>0.0</td>\n",
              "      <td>0.0</td>\n",
              "      <td>0.0</td>\n",
              "      <td>0.0</td>\n",
              "    </tr>\n",
              "    <tr>\n",
              "      <th>The Third Cry to Legba and Other Invocations : The Selected Stories of Manly Wade Wellman (Vol. 1)</th>\n",
              "      <td>0.0</td>\n",
              "      <td>0.0</td>\n",
              "      <td>0.0</td>\n",
              "      <td>0.0</td>\n",
              "      <td>0.0</td>\n",
              "    </tr>\n",
              "    <tr>\n",
              "      <th>The King's Daughter Becoming The Woman God Created You To Be</th>\n",
              "      <td>0.0</td>\n",
              "      <td>0.0</td>\n",
              "      <td>0.0</td>\n",
              "      <td>0.0</td>\n",
              "      <td>0.0</td>\n",
              "    </tr>\n",
              "    <tr>\n",
              "      <th>Spygirl : True Adventures from My Life as a Private Eye</th>\n",
              "      <td>0.0</td>\n",
              "      <td>0.0</td>\n",
              "      <td>0.0</td>\n",
              "      <td>0.0</td>\n",
              "      <td>0.0</td>\n",
              "    </tr>\n",
              "    <tr>\n",
              "      <th>I Love Everybody (and Other Atrocious Lies) : True Tales of a Loudmouth Girl</th>\n",
              "      <td>0.0</td>\n",
              "      <td>0.0</td>\n",
              "      <td>0.0</td>\n",
              "      <td>0.0</td>\n",
              "      <td>0.0</td>\n",
              "    </tr>\n",
              "    <tr>\n",
              "      <th>Lady Yesterday</th>\n",
              "      <td>0.0</td>\n",
              "      <td>0.0</td>\n",
              "      <td>0.0</td>\n",
              "      <td>0.0</td>\n",
              "      <td>0.0</td>\n",
              "    </tr>\n",
              "  </tbody>\n",
              "</table>\n",
              "</div>"
            ],
            "text/plain": [
              "book_title                                                                                          Byrne's New Standard Book of Pool and Billiards  \\\n",
              "book_title                                                                                                                                            \n",
              "Dance of the Scarecrows: A Jonathan Wilder Mystery                                                                                              0.0   \n",
              "Cracker Factory                                                                                                                                 0.0   \n",
              "Wind Spirit (Ella Clah)                                                                                                                         0.0   \n",
              "Die Kugeln in unseren KÃ?Â¶pfen. Kolumnen.                                                                                                      0.0   \n",
              "What's Heaven?                                                                                                                                  0.0   \n",
              "The Third Cry to Legba and Other Invocations : The Selected Stories of Manly Wade Wellman (Vol. 1)                                              0.0   \n",
              "The King's Daughter Becoming The Woman God Created You To Be                                                                                    0.0   \n",
              "Spygirl : True Adventures from My Life as a Private Eye                                                                                         0.0   \n",
              "I Love Everybody (and Other Atrocious Lies) : True Tales of a Loudmouth Girl                                                                    0.0   \n",
              "Lady Yesterday                                                                                                                                  0.0   \n",
              "\n",
              "book_title                                                                                          Life!: Reflections on Your Journey  \\\n",
              "book_title                                                                                                                               \n",
              "Dance of the Scarecrows: A Jonathan Wilder Mystery                                                                                 0.0   \n",
              "Cracker Factory                                                                                                                    0.0   \n",
              "Wind Spirit (Ella Clah)                                                                                                            0.0   \n",
              "Die Kugeln in unseren KÃ?Â¶pfen. Kolumnen.                                                                                         0.0   \n",
              "What's Heaven?                                                                                                                     0.0   \n",
              "The Third Cry to Legba and Other Invocations : The Selected Stories of Manly Wade Wellman (Vol. 1)                                 0.0   \n",
              "The King's Daughter Becoming The Woman God Created You To Be                                                                       0.0   \n",
              "Spygirl : True Adventures from My Life as a Private Eye                                                                            0.0   \n",
              "I Love Everybody (and Other Atrocious Lies) : True Tales of a Loudmouth Girl                                                       0.0   \n",
              "Lady Yesterday                                                                                                                     0.0   \n",
              "\n",
              "book_title                                                                                          Stupidario medico (Biblioteca umoristica Mondadori)  \\\n",
              "book_title                                                                                                                                                \n",
              "Dance of the Scarecrows: A Jonathan Wilder Mystery                                                                                                  0.0   \n",
              "Cracker Factory                                                                                                                                     0.0   \n",
              "Wind Spirit (Ella Clah)                                                                                                                             0.0   \n",
              "Die Kugeln in unseren KÃ?Â¶pfen. Kolumnen.                                                                                                          0.0   \n",
              "What's Heaven?                                                                                                                                      0.0   \n",
              "The Third Cry to Legba and Other Invocations : The Selected Stories of Manly Wade Wellman (Vol. 1)                                                  0.0   \n",
              "The King's Daughter Becoming The Woman God Created You To Be                                                                                        0.0   \n",
              "Spygirl : True Adventures from My Life as a Private Eye                                                                                             0.0   \n",
              "I Love Everybody (and Other Atrocious Lies) : True Tales of a Loudmouth Girl                                                                        0.0   \n",
              "Lady Yesterday                                                                                                                                      0.0   \n",
              "\n",
              "book_title                                                                                          Women's Strength Training Anatomy  \\\n",
              "book_title                                                                                                                              \n",
              "Dance of the Scarecrows: A Jonathan Wilder Mystery                                                                                0.0   \n",
              "Cracker Factory                                                                                                                   0.0   \n",
              "Wind Spirit (Ella Clah)                                                                                                           0.0   \n",
              "Die Kugeln in unseren KÃ?Â¶pfen. Kolumnen.                                                                                        0.0   \n",
              "What's Heaven?                                                                                                                    0.0   \n",
              "The Third Cry to Legba and Other Invocations : The Selected Stories of Manly Wade Wellman (Vol. 1)                                0.0   \n",
              "The King's Daughter Becoming The Woman God Created You To Be                                                                      0.0   \n",
              "Spygirl : True Adventures from My Life as a Private Eye                                                                           0.0   \n",
              "I Love Everybody (and Other Atrocious Lies) : True Tales of a Loudmouth Girl                                                      0.0   \n",
              "Lady Yesterday                                                                                                                    0.0   \n",
              "\n",
              "book_title                                                                                          Writers Of The Purple Sage  \n",
              "book_title                                                                                                                      \n",
              "Dance of the Scarecrows: A Jonathan Wilder Mystery                                                                         0.0  \n",
              "Cracker Factory                                                                                                            0.0  \n",
              "Wind Spirit (Ella Clah)                                                                                                    0.0  \n",
              "Die Kugeln in unseren KÃ?Â¶pfen. Kolumnen.                                                                                 0.0  \n",
              "What's Heaven?                                                                                                             0.0  \n",
              "The Third Cry to Legba and Other Invocations : The Selected Stories of Manly Wade Wellman (Vol. 1)                         0.0  \n",
              "The King's Daughter Becoming The Woman God Created You To Be                                                               0.0  \n",
              "Spygirl : True Adventures from My Life as a Private Eye                                                                    0.0  \n",
              "I Love Everybody (and Other Atrocious Lies) : True Tales of a Loudmouth Girl                                               0.0  \n",
              "Lady Yesterday                                                                                                             0.0  "
            ]
          },
          "metadata": {},
          "execution_count": 47
        }
      ]
    },
    {
      "cell_type": "code",
      "metadata": {
        "id": "EhQ1be2AxuEh"
      },
      "source": [
        "def book_recommendations(nama_buku, similarity_data=cosine_sim_df, items=df_new[['book_title', 'book_author']], k=5):\n",
        "    \"\"\"\n",
        "    Rekomendasi buku berdasarkan kemiripan dataframe\n",
        " \n",
        "    Parameter:\n",
        "    ---\n",
        "    nama_buku : tipe data string (str)\n",
        "                Nama Buku (index kemiripan dataframe)\n",
        "    similarity_data : tipe data pd.DataFrame (object)\n",
        "                      Kesamaan dataframe, simetrik, dengan buku sebagai indeks dan kolom\n",
        "    items : tipe data pd.DataFrame (object)\n",
        "            Mengandung kedua nama dan fitur lainnya yang digunakan untuk mendefinisikan kemiripan\n",
        "    k : tipe data integer (int)\n",
        "        Banyaknya jumlah rekomendasi yang diberikan\n",
        "    ---\n",
        "\n",
        "    Pada index ini, kita mengambil k dengan nilai similarity terbesar \n",
        "    pada index matrix yang diberikan (i).\n",
        "    \"\"\"\n",
        "    # Range(start, stop, step)\n",
        "    index = similarity_data.loc[:,nama_buku].to_numpy().argpartition(\n",
        "        range(-1, -k, -1))\n",
        "    \n",
        "    # Mengambil data dengan similarity terbesar dari index yang ada\n",
        "    closest = similarity_data.columns[index[-1:-(k+2):-1]]\n",
        "    \n",
        "    # Drop nama_buku agar nama resto (key) yang dicari tidak muncul dalam daftar rekomendasi\n",
        "    closest = closest.drop(nama_buku, errors='ignore')\n",
        " \n",
        "    return pd.DataFrame(closest).merge(items).head(k)"
      ],
      "execution_count": 48,
      "outputs": []
    },
    {
      "cell_type": "code",
      "metadata": {
        "colab": {
          "base_uri": "https://localhost:8080/",
          "height": 255
        },
        "id": "oIf_spz1x-H-",
        "outputId": "34c513f1-b2bc-4deb-a085-067f8b868f93"
      },
      "source": [
        "nama_buku = df_new.sample(1).iloc[0]\n",
        "print(\"Judul buku: \",nama_buku.book_title)\n",
        "print(\"Penulis buku: \",nama_buku.book_author)\n",
        "\n",
        "print(\"Buku yang mungkin disukai berdasarkan penulis buku yang sama\")\n",
        "book_recommendations(nama_buku.book_title)"
      ],
      "execution_count": 49,
      "outputs": [
        {
          "output_type": "stream",
          "name": "stdout",
          "text": [
            "Judul buku:  Arco Iris En La Niebla\n",
            "Penulis buku:  Phyllis A. Whitney\n",
            "Buku yang mungkin disukai berdasarkan penulis buku yang sama\n"
          ]
        },
        {
          "output_type": "execute_result",
          "data": {
            "text/html": [
              "<div>\n",
              "<style scoped>\n",
              "    .dataframe tbody tr th:only-of-type {\n",
              "        vertical-align: middle;\n",
              "    }\n",
              "\n",
              "    .dataframe tbody tr th {\n",
              "        vertical-align: top;\n",
              "    }\n",
              "\n",
              "    .dataframe thead th {\n",
              "        text-align: right;\n",
              "    }\n",
              "</style>\n",
              "<table border=\"1\" class=\"dataframe\">\n",
              "  <thead>\n",
              "    <tr style=\"text-align: right;\">\n",
              "      <th></th>\n",
              "      <th>book_title</th>\n",
              "      <th>book_author</th>\n",
              "    </tr>\n",
              "  </thead>\n",
              "  <tbody>\n",
              "    <tr>\n",
              "      <th>0</th>\n",
              "      <td>The Moonflower</td>\n",
              "      <td>Phyllis A. Whitney</td>\n",
              "    </tr>\n",
              "    <tr>\n",
              "      <th>1</th>\n",
              "      <td>Guide to Fiction Writing</td>\n",
              "      <td>Phyllis A. Whitney</td>\n",
              "    </tr>\n",
              "    <tr>\n",
              "      <th>2</th>\n",
              "      <td>The Singing Stones</td>\n",
              "      <td>Phyllis A. Whitney</td>\n",
              "    </tr>\n",
              "    <tr>\n",
              "      <th>3</th>\n",
              "      <td>Columbella</td>\n",
              "      <td>Phyllis A. Whitney</td>\n",
              "    </tr>\n",
              "    <tr>\n",
              "      <th>4</th>\n",
              "      <td>Woman Without a Past</td>\n",
              "      <td>Phyllis A. Whitney</td>\n",
              "    </tr>\n",
              "  </tbody>\n",
              "</table>\n",
              "</div>"
            ],
            "text/plain": [
              "                 book_title         book_author\n",
              "0            The Moonflower  Phyllis A. Whitney\n",
              "1  Guide to Fiction Writing  Phyllis A. Whitney\n",
              "2        The Singing Stones  Phyllis A. Whitney\n",
              "3                Columbella  Phyllis A. Whitney\n",
              "4      Woman Without a Past  Phyllis A. Whitney"
            ]
          },
          "metadata": {},
          "execution_count": 49
        }
      ]
    },
    {
      "cell_type": "markdown",
      "metadata": {
        "id": "t18kyJ65GDN8"
      },
      "source": [
        "## 13) Membuat Model dengan Collaborative Filtering"
      ]
    },
    {
      "cell_type": "code",
      "metadata": {
        "id": "tJHQydis3frc"
      },
      "source": [
        "# Membuat class RecommenderNet\n",
        "class RecommenderNet(tf.keras.Model):\n",
        "  # Insialisasi fungsi\n",
        "  def __init__(self, num_users, num_isbn, embedding_size, **kwargs):\n",
        "    super(RecommenderNet, self).__init__(**kwargs)\n",
        "    self.num_users = num_users\n",
        "    self.num_isbn = num_isbn\n",
        "    self.embedding_size = embedding_size\n",
        "    self.user_embedding = layers.Embedding( # layer embedding user\n",
        "        num_users,\n",
        "        embedding_size,\n",
        "        embeddings_initializer = 'he_normal',\n",
        "        embeddings_regularizer = keras.regularizers.l2(1e-6)\n",
        "    )\n",
        "    self.user_bias = layers.Embedding(num_users, 1) # layer embedding user bias\n",
        "\n",
        "    self.resto_embedding = layers.Embedding( # layer embeddings resto\n",
        "        num_isbn,\n",
        "        embedding_size,\n",
        "        embeddings_initializer = 'he_normal',\n",
        "        embeddings_regularizer = keras.regularizers.l2(1e-6)\n",
        "    )\n",
        "    self.resto_bias = layers.Embedding(num_isbn, 1) # layer embedding resto bias\n",
        " \n",
        "  def call(self, inputs):\n",
        "    user_vector = self.user_embedding(inputs[:,0]) # memanggil layer embedding 1\n",
        "    user_bias = self.user_bias(inputs[:, 0]) # memanggil layer embedding 2\n",
        "\n",
        "    resto_vector = self.resto_embedding(inputs[:, 1]) # memanggil layer embedding 3\n",
        "    resto_bias = self.resto_bias(inputs[:, 1]) # memanggil layer embedding 4\n",
        " \n",
        "    dot_user_resto = tf.tensordot(user_vector, resto_vector, 2) \n",
        " \n",
        "    x = dot_user_resto + user_bias + resto_bias\n",
        "    \n",
        "    return tf.nn.sigmoid(x) # activation sigmoid"
      ],
      "execution_count": 50,
      "outputs": []
    },
    {
      "cell_type": "code",
      "metadata": {
        "colab": {
          "base_uri": "https://localhost:8080/"
        },
        "id": "0SHHeDrzS4Su",
        "outputId": "6e83addf-6c2a-4886-bfee-3800db2ed35b"
      },
      "source": [
        "# Membuat model dari class RecommenderNet\n",
        "model = RecommenderNet(num_users, num_isbn, 50) # inisialisasi model\n",
        " \n",
        "# Compile model\n",
        "model.compile(\n",
        "    loss = tf.keras.losses.BinaryCrossentropy(),\n",
        "    optimizer = tf.keras.optimizers.Adam(learning_rate=0.001),\n",
        "    metrics=[tf.keras.metrics.RootMeanSquaredError()]\n",
        ")\n",
        "# Memulai training\n",
        "history = model.fit(\n",
        "    x = x_train,\n",
        "    y = y_train,\n",
        "    batch_size = 8,\n",
        "    epochs = 100,\n",
        "    validation_data = (x_val, y_val),\n",
        "    verbose = 1\n",
        ")"
      ],
      "execution_count": 51,
      "outputs": [
        {
          "output_type": "stream",
          "name": "stdout",
          "text": [
            "Epoch 1/100\n",
            "1000/1000 [==============================] - 9s 5ms/step - loss: 0.6814 - root_mean_squared_error: 0.4833 - val_loss: 0.6680 - val_root_mean_squared_error: 0.4759\n",
            "Epoch 2/100\n",
            "1000/1000 [==============================] - 5s 5ms/step - loss: 0.5139 - root_mean_squared_error: 0.3908 - val_loss: 0.6490 - val_root_mean_squared_error: 0.4656\n",
            "Epoch 3/100\n",
            "1000/1000 [==============================] - 5s 5ms/step - loss: 0.1969 - root_mean_squared_error: 0.1739 - val_loss: 0.6428 - val_root_mean_squared_error: 0.4617\n",
            "Epoch 4/100\n",
            "1000/1000 [==============================] - 5s 5ms/step - loss: 0.1021 - root_mean_squared_error: 0.0778 - val_loss: 0.6410 - val_root_mean_squared_error: 0.4602\n",
            "Epoch 5/100\n",
            "1000/1000 [==============================] - 5s 5ms/step - loss: 0.0852 - root_mean_squared_error: 0.0540 - val_loss: 0.6404 - val_root_mean_squared_error: 0.4596\n",
            "Epoch 6/100\n",
            "1000/1000 [==============================] - 5s 5ms/step - loss: 0.0774 - root_mean_squared_error: 0.0416 - val_loss: 0.6401 - val_root_mean_squared_error: 0.4592\n",
            "Epoch 7/100\n",
            "1000/1000 [==============================] - 5s 5ms/step - loss: 0.0752 - root_mean_squared_error: 0.0389 - val_loss: 0.6400 - val_root_mean_squared_error: 0.4590\n",
            "Epoch 8/100\n",
            "1000/1000 [==============================] - 5s 5ms/step - loss: 0.0747 - root_mean_squared_error: 0.0392 - val_loss: 0.6388 - val_root_mean_squared_error: 0.4582\n",
            "Epoch 9/100\n",
            "1000/1000 [==============================] - 5s 5ms/step - loss: 0.0724 - root_mean_squared_error: 0.0348 - val_loss: 0.6365 - val_root_mean_squared_error: 0.4568\n",
            "Epoch 10/100\n",
            "1000/1000 [==============================] - 5s 5ms/step - loss: 0.0729 - root_mean_squared_error: 0.0356 - val_loss: 0.6333 - val_root_mean_squared_error: 0.4551\n",
            "Epoch 11/100\n",
            "1000/1000 [==============================] - 5s 5ms/step - loss: 0.0736 - root_mean_squared_error: 0.0375 - val_loss: 0.6294 - val_root_mean_squared_error: 0.4530\n",
            "Epoch 12/100\n",
            "1000/1000 [==============================] - 5s 5ms/step - loss: 0.0724 - root_mean_squared_error: 0.0365 - val_loss: 0.6247 - val_root_mean_squared_error: 0.4505\n",
            "Epoch 13/100\n",
            "1000/1000 [==============================] - 5s 5ms/step - loss: 0.0722 - root_mean_squared_error: 0.0354 - val_loss: 0.6203 - val_root_mean_squared_error: 0.4482\n",
            "Epoch 14/100\n",
            "1000/1000 [==============================] - 5s 5ms/step - loss: 0.0712 - root_mean_squared_error: 0.0335 - val_loss: 0.6163 - val_root_mean_squared_error: 0.4460\n",
            "Epoch 15/100\n",
            "1000/1000 [==============================] - 5s 5ms/step - loss: 0.0722 - root_mean_squared_error: 0.0375 - val_loss: 0.6122 - val_root_mean_squared_error: 0.4439\n",
            "Epoch 16/100\n",
            "1000/1000 [==============================] - 5s 5ms/step - loss: 0.0706 - root_mean_squared_error: 0.0342 - val_loss: 0.6076 - val_root_mean_squared_error: 0.4414\n",
            "Epoch 17/100\n",
            "1000/1000 [==============================] - 5s 5ms/step - loss: 0.0711 - root_mean_squared_error: 0.0339 - val_loss: 0.6039 - val_root_mean_squared_error: 0.4395\n",
            "Epoch 18/100\n",
            "1000/1000 [==============================] - 5s 5ms/step - loss: 0.0706 - root_mean_squared_error: 0.0331 - val_loss: 0.6001 - val_root_mean_squared_error: 0.4375\n",
            "Epoch 19/100\n",
            "1000/1000 [==============================] - 5s 5ms/step - loss: 0.0696 - root_mean_squared_error: 0.0319 - val_loss: 0.5965 - val_root_mean_squared_error: 0.4356\n",
            "Epoch 20/100\n",
            "1000/1000 [==============================] - 5s 5ms/step - loss: 0.0696 - root_mean_squared_error: 0.0322 - val_loss: 0.5922 - val_root_mean_squared_error: 0.4334\n",
            "Epoch 21/100\n",
            "1000/1000 [==============================] - 5s 5ms/step - loss: 0.0696 - root_mean_squared_error: 0.0335 - val_loss: 0.5882 - val_root_mean_squared_error: 0.4313\n",
            "Epoch 22/100\n",
            "1000/1000 [==============================] - 5s 5ms/step - loss: 0.0694 - root_mean_squared_error: 0.0312 - val_loss: 0.5845 - val_root_mean_squared_error: 0.4293\n",
            "Epoch 23/100\n",
            "1000/1000 [==============================] - 5s 5ms/step - loss: 0.0691 - root_mean_squared_error: 0.0310 - val_loss: 0.5815 - val_root_mean_squared_error: 0.4278\n",
            "Epoch 24/100\n",
            "1000/1000 [==============================] - 5s 5ms/step - loss: 0.0692 - root_mean_squared_error: 0.0325 - val_loss: 0.5782 - val_root_mean_squared_error: 0.4261\n",
            "Epoch 25/100\n",
            "1000/1000 [==============================] - 5s 5ms/step - loss: 0.0687 - root_mean_squared_error: 0.0317 - val_loss: 0.5751 - val_root_mean_squared_error: 0.4244\n",
            "Epoch 26/100\n",
            "1000/1000 [==============================] - 5s 5ms/step - loss: 0.0684 - root_mean_squared_error: 0.0315 - val_loss: 0.5719 - val_root_mean_squared_error: 0.4227\n",
            "Epoch 27/100\n",
            "1000/1000 [==============================] - 5s 5ms/step - loss: 0.0682 - root_mean_squared_error: 0.0314 - val_loss: 0.5685 - val_root_mean_squared_error: 0.4209\n",
            "Epoch 28/100\n",
            "1000/1000 [==============================] - 5s 5ms/step - loss: 0.0678 - root_mean_squared_error: 0.0318 - val_loss: 0.5647 - val_root_mean_squared_error: 0.4190\n",
            "Epoch 29/100\n",
            "1000/1000 [==============================] - 5s 5ms/step - loss: 0.0679 - root_mean_squared_error: 0.0337 - val_loss: 0.5620 - val_root_mean_squared_error: 0.4175\n",
            "Epoch 30/100\n",
            "1000/1000 [==============================] - 5s 5ms/step - loss: 0.0677 - root_mean_squared_error: 0.0312 - val_loss: 0.5590 - val_root_mean_squared_error: 0.4160\n",
            "Epoch 31/100\n",
            "1000/1000 [==============================] - 5s 5ms/step - loss: 0.0679 - root_mean_squared_error: 0.0330 - val_loss: 0.5560 - val_root_mean_squared_error: 0.4144\n",
            "Epoch 32/100\n",
            "1000/1000 [==============================] - 5s 5ms/step - loss: 0.0667 - root_mean_squared_error: 0.0290 - val_loss: 0.5531 - val_root_mean_squared_error: 0.4129\n",
            "Epoch 33/100\n",
            "1000/1000 [==============================] - 5s 5ms/step - loss: 0.0665 - root_mean_squared_error: 0.0279 - val_loss: 0.5504 - val_root_mean_squared_error: 0.4115\n",
            "Epoch 34/100\n",
            "1000/1000 [==============================] - 5s 5ms/step - loss: 0.0665 - root_mean_squared_error: 0.0295 - val_loss: 0.5470 - val_root_mean_squared_error: 0.4096\n",
            "Epoch 35/100\n",
            "1000/1000 [==============================] - 5s 5ms/step - loss: 0.0668 - root_mean_squared_error: 0.0299 - val_loss: 0.5440 - val_root_mean_squared_error: 0.4081\n",
            "Epoch 36/100\n",
            "1000/1000 [==============================] - 5s 5ms/step - loss: 0.0669 - root_mean_squared_error: 0.0299 - val_loss: 0.5411 - val_root_mean_squared_error: 0.4066\n",
            "Epoch 37/100\n",
            "1000/1000 [==============================] - 5s 5ms/step - loss: 0.0663 - root_mean_squared_error: 0.0297 - val_loss: 0.5379 - val_root_mean_squared_error: 0.4049\n",
            "Epoch 38/100\n",
            "1000/1000 [==============================] - 5s 5ms/step - loss: 0.0657 - root_mean_squared_error: 0.0276 - val_loss: 0.5353 - val_root_mean_squared_error: 0.4036\n",
            "Epoch 39/100\n",
            "1000/1000 [==============================] - 5s 5ms/step - loss: 0.0655 - root_mean_squared_error: 0.0271 - val_loss: 0.5325 - val_root_mean_squared_error: 0.4021\n",
            "Epoch 40/100\n",
            "1000/1000 [==============================] - 5s 5ms/step - loss: 0.0660 - root_mean_squared_error: 0.0292 - val_loss: 0.5297 - val_root_mean_squared_error: 0.4007\n",
            "Epoch 41/100\n",
            "1000/1000 [==============================] - 5s 5ms/step - loss: 0.0653 - root_mean_squared_error: 0.0279 - val_loss: 0.5271 - val_root_mean_squared_error: 0.3993\n",
            "Epoch 42/100\n",
            "1000/1000 [==============================] - 5s 5ms/step - loss: 0.0650 - root_mean_squared_error: 0.0264 - val_loss: 0.5247 - val_root_mean_squared_error: 0.3981\n",
            "Epoch 43/100\n",
            "1000/1000 [==============================] - 5s 5ms/step - loss: 0.0656 - root_mean_squared_error: 0.0307 - val_loss: 0.5221 - val_root_mean_squared_error: 0.3967\n",
            "Epoch 44/100\n",
            "1000/1000 [==============================] - 5s 5ms/step - loss: 0.0649 - root_mean_squared_error: 0.0269 - val_loss: 0.5196 - val_root_mean_squared_error: 0.3954\n",
            "Epoch 45/100\n",
            "1000/1000 [==============================] - 5s 5ms/step - loss: 0.0647 - root_mean_squared_error: 0.0278 - val_loss: 0.5168 - val_root_mean_squared_error: 0.3940\n",
            "Epoch 46/100\n",
            "1000/1000 [==============================] - 5s 5ms/step - loss: 0.0650 - root_mean_squared_error: 0.0294 - val_loss: 0.5144 - val_root_mean_squared_error: 0.3928\n",
            "Epoch 47/100\n",
            "1000/1000 [==============================] - 5s 5ms/step - loss: 0.0648 - root_mean_squared_error: 0.0258 - val_loss: 0.5116 - val_root_mean_squared_error: 0.3913\n",
            "Epoch 48/100\n",
            "1000/1000 [==============================] - 5s 5ms/step - loss: 0.0649 - root_mean_squared_error: 0.0270 - val_loss: 0.5094 - val_root_mean_squared_error: 0.3901\n",
            "Epoch 49/100\n",
            "1000/1000 [==============================] - 5s 5ms/step - loss: 0.0645 - root_mean_squared_error: 0.0263 - val_loss: 0.5070 - val_root_mean_squared_error: 0.3889\n",
            "Epoch 50/100\n",
            "1000/1000 [==============================] - 5s 5ms/step - loss: 0.0645 - root_mean_squared_error: 0.0266 - val_loss: 0.5043 - val_root_mean_squared_error: 0.3875\n",
            "Epoch 51/100\n",
            "1000/1000 [==============================] - 5s 5ms/step - loss: 0.0639 - root_mean_squared_error: 0.0242 - val_loss: 0.5021 - val_root_mean_squared_error: 0.3864\n",
            "Epoch 52/100\n",
            "1000/1000 [==============================] - 5s 5ms/step - loss: 0.0640 - root_mean_squared_error: 0.0260 - val_loss: 0.4996 - val_root_mean_squared_error: 0.3851\n",
            "Epoch 53/100\n",
            "1000/1000 [==============================] - 5s 5ms/step - loss: 0.0633 - root_mean_squared_error: 0.0247 - val_loss: 0.4976 - val_root_mean_squared_error: 0.3840\n",
            "Epoch 54/100\n",
            "1000/1000 [==============================] - 5s 5ms/step - loss: 0.0637 - root_mean_squared_error: 0.0263 - val_loss: 0.4950 - val_root_mean_squared_error: 0.3827\n",
            "Epoch 55/100\n",
            "1000/1000 [==============================] - 5s 5ms/step - loss: 0.0634 - root_mean_squared_error: 0.0251 - val_loss: 0.4927 - val_root_mean_squared_error: 0.3815\n",
            "Epoch 56/100\n",
            "1000/1000 [==============================] - 5s 5ms/step - loss: 0.0635 - root_mean_squared_error: 0.0251 - val_loss: 0.4900 - val_root_mean_squared_error: 0.3802\n",
            "Epoch 57/100\n",
            "1000/1000 [==============================] - 5s 5ms/step - loss: 0.0630 - root_mean_squared_error: 0.0247 - val_loss: 0.4876 - val_root_mean_squared_error: 0.3789\n",
            "Epoch 58/100\n",
            "1000/1000 [==============================] - 5s 5ms/step - loss: 0.0632 - root_mean_squared_error: 0.0253 - val_loss: 0.4856 - val_root_mean_squared_error: 0.3779\n",
            "Epoch 59/100\n",
            "1000/1000 [==============================] - 5s 5ms/step - loss: 0.0629 - root_mean_squared_error: 0.0232 - val_loss: 0.4838 - val_root_mean_squared_error: 0.3770\n",
            "Epoch 60/100\n",
            "1000/1000 [==============================] - 5s 5ms/step - loss: 0.0633 - root_mean_squared_error: 0.0261 - val_loss: 0.4811 - val_root_mean_squared_error: 0.3756\n",
            "Epoch 61/100\n",
            "1000/1000 [==============================] - 5s 5ms/step - loss: 0.0632 - root_mean_squared_error: 0.0259 - val_loss: 0.4790 - val_root_mean_squared_error: 0.3746\n",
            "Epoch 62/100\n",
            "1000/1000 [==============================] - 5s 5ms/step - loss: 0.0626 - root_mean_squared_error: 0.0229 - val_loss: 0.4768 - val_root_mean_squared_error: 0.3734\n",
            "Epoch 63/100\n",
            "1000/1000 [==============================] - 5s 5ms/step - loss: 0.0625 - root_mean_squared_error: 0.0224 - val_loss: 0.4748 - val_root_mean_squared_error: 0.3724\n",
            "Epoch 64/100\n",
            "1000/1000 [==============================] - 5s 5ms/step - loss: 0.0628 - root_mean_squared_error: 0.0246 - val_loss: 0.4726 - val_root_mean_squared_error: 0.3713\n",
            "Epoch 65/100\n",
            "1000/1000 [==============================] - 5s 5ms/step - loss: 0.0627 - root_mean_squared_error: 0.0242 - val_loss: 0.4704 - val_root_mean_squared_error: 0.3702\n",
            "Epoch 66/100\n",
            "1000/1000 [==============================] - 5s 5ms/step - loss: 0.0621 - root_mean_squared_error: 0.0228 - val_loss: 0.4683 - val_root_mean_squared_error: 0.3692\n",
            "Epoch 67/100\n",
            "1000/1000 [==============================] - 5s 5ms/step - loss: 0.0624 - root_mean_squared_error: 0.0246 - val_loss: 0.4662 - val_root_mean_squared_error: 0.3681\n",
            "Epoch 68/100\n",
            "1000/1000 [==============================] - 5s 5ms/step - loss: 0.0621 - root_mean_squared_error: 0.0229 - val_loss: 0.4644 - val_root_mean_squared_error: 0.3671\n",
            "Epoch 69/100\n",
            "1000/1000 [==============================] - 5s 5ms/step - loss: 0.0622 - root_mean_squared_error: 0.0237 - val_loss: 0.4623 - val_root_mean_squared_error: 0.3661\n",
            "Epoch 70/100\n",
            "1000/1000 [==============================] - 5s 5ms/step - loss: 0.0621 - root_mean_squared_error: 0.0228 - val_loss: 0.4602 - val_root_mean_squared_error: 0.3650\n",
            "Epoch 71/100\n",
            "1000/1000 [==============================] - 5s 5ms/step - loss: 0.0619 - root_mean_squared_error: 0.0220 - val_loss: 0.4581 - val_root_mean_squared_error: 0.3640\n",
            "Epoch 72/100\n",
            "1000/1000 [==============================] - 5s 5ms/step - loss: 0.0618 - root_mean_squared_error: 0.0223 - val_loss: 0.4558 - val_root_mean_squared_error: 0.3628\n",
            "Epoch 73/100\n",
            "1000/1000 [==============================] - 5s 5ms/step - loss: 0.0622 - root_mean_squared_error: 0.0245 - val_loss: 0.4543 - val_root_mean_squared_error: 0.3620\n",
            "Epoch 74/100\n",
            "1000/1000 [==============================] - 5s 5ms/step - loss: 0.0615 - root_mean_squared_error: 0.0214 - val_loss: 0.4524 - val_root_mean_squared_error: 0.3610\n",
            "Epoch 75/100\n",
            "1000/1000 [==============================] - 5s 5ms/step - loss: 0.0612 - root_mean_squared_error: 0.0208 - val_loss: 0.4506 - val_root_mean_squared_error: 0.3602\n",
            "Epoch 76/100\n",
            "1000/1000 [==============================] - 5s 5ms/step - loss: 0.0613 - root_mean_squared_error: 0.0222 - val_loss: 0.4487 - val_root_mean_squared_error: 0.3593\n",
            "Epoch 77/100\n",
            "1000/1000 [==============================] - 5s 5ms/step - loss: 0.0620 - root_mean_squared_error: 0.0252 - val_loss: 0.4464 - val_root_mean_squared_error: 0.3581\n",
            "Epoch 78/100\n",
            "1000/1000 [==============================] - 5s 5ms/step - loss: 0.0610 - root_mean_squared_error: 0.0212 - val_loss: 0.4446 - val_root_mean_squared_error: 0.3573\n",
            "Epoch 79/100\n",
            "1000/1000 [==============================] - 5s 5ms/step - loss: 0.0610 - root_mean_squared_error: 0.0212 - val_loss: 0.4427 - val_root_mean_squared_error: 0.3563\n",
            "Epoch 80/100\n",
            "1000/1000 [==============================] - 5s 5ms/step - loss: 0.0609 - root_mean_squared_error: 0.0220 - val_loss: 0.4410 - val_root_mean_squared_error: 0.3555\n",
            "Epoch 81/100\n",
            "1000/1000 [==============================] - 5s 5ms/step - loss: 0.0611 - root_mean_squared_error: 0.0217 - val_loss: 0.4390 - val_root_mean_squared_error: 0.3545\n",
            "Epoch 82/100\n",
            "1000/1000 [==============================] - 5s 5ms/step - loss: 0.0606 - root_mean_squared_error: 0.0194 - val_loss: 0.4374 - val_root_mean_squared_error: 0.3537\n",
            "Epoch 83/100\n",
            "1000/1000 [==============================] - 5s 5ms/step - loss: 0.0604 - root_mean_squared_error: 0.0198 - val_loss: 0.4356 - val_root_mean_squared_error: 0.3528\n",
            "Epoch 84/100\n",
            "1000/1000 [==============================] - 5s 5ms/step - loss: 0.0608 - root_mean_squared_error: 0.0213 - val_loss: 0.4338 - val_root_mean_squared_error: 0.3520\n",
            "Epoch 85/100\n",
            "1000/1000 [==============================] - 5s 5ms/step - loss: 0.0612 - root_mean_squared_error: 0.0235 - val_loss: 0.4317 - val_root_mean_squared_error: 0.3509\n",
            "Epoch 86/100\n",
            "1000/1000 [==============================] - 5s 5ms/step - loss: 0.0608 - root_mean_squared_error: 0.0222 - val_loss: 0.4301 - val_root_mean_squared_error: 0.3501\n",
            "Epoch 87/100\n",
            "1000/1000 [==============================] - 5s 5ms/step - loss: 0.0602 - root_mean_squared_error: 0.0192 - val_loss: 0.4284 - val_root_mean_squared_error: 0.3494\n",
            "Epoch 88/100\n",
            "1000/1000 [==============================] - 5s 5ms/step - loss: 0.0606 - root_mean_squared_error: 0.0233 - val_loss: 0.4268 - val_root_mean_squared_error: 0.3485\n",
            "Epoch 89/100\n",
            "1000/1000 [==============================] - 5s 5ms/step - loss: 0.0601 - root_mean_squared_error: 0.0194 - val_loss: 0.4250 - val_root_mean_squared_error: 0.3476\n",
            "Epoch 90/100\n",
            "1000/1000 [==============================] - 5s 5ms/step - loss: 0.0601 - root_mean_squared_error: 0.0197 - val_loss: 0.4234 - val_root_mean_squared_error: 0.3469\n",
            "Epoch 91/100\n",
            "1000/1000 [==============================] - 5s 5ms/step - loss: 0.0602 - root_mean_squared_error: 0.0222 - val_loss: 0.4216 - val_root_mean_squared_error: 0.3460\n",
            "Epoch 92/100\n",
            "1000/1000 [==============================] - 5s 5ms/step - loss: 0.0601 - root_mean_squared_error: 0.0216 - val_loss: 0.4200 - val_root_mean_squared_error: 0.3453\n",
            "Epoch 93/100\n",
            "1000/1000 [==============================] - 5s 5ms/step - loss: 0.0597 - root_mean_squared_error: 0.0188 - val_loss: 0.4185 - val_root_mean_squared_error: 0.3446\n",
            "Epoch 94/100\n",
            "1000/1000 [==============================] - 5s 5ms/step - loss: 0.0596 - root_mean_squared_error: 0.0186 - val_loss: 0.4168 - val_root_mean_squared_error: 0.3437\n",
            "Epoch 95/100\n",
            "1000/1000 [==============================] - 5s 5ms/step - loss: 0.0596 - root_mean_squared_error: 0.0198 - val_loss: 0.4154 - val_root_mean_squared_error: 0.3430\n",
            "Epoch 96/100\n",
            "1000/1000 [==============================] - 5s 5ms/step - loss: 0.0598 - root_mean_squared_error: 0.0210 - val_loss: 0.4136 - val_root_mean_squared_error: 0.3422\n",
            "Epoch 97/100\n",
            "1000/1000 [==============================] - 5s 5ms/step - loss: 0.0596 - root_mean_squared_error: 0.0194 - val_loss: 0.4124 - val_root_mean_squared_error: 0.3416\n",
            "Epoch 98/100\n",
            "1000/1000 [==============================] - 5s 5ms/step - loss: 0.0597 - root_mean_squared_error: 0.0202 - val_loss: 0.4104 - val_root_mean_squared_error: 0.3406\n",
            "Epoch 99/100\n",
            "1000/1000 [==============================] - 5s 5ms/step - loss: 0.0592 - root_mean_squared_error: 0.0181 - val_loss: 0.4091 - val_root_mean_squared_error: 0.3401\n",
            "Epoch 100/100\n",
            "1000/1000 [==============================] - 5s 5ms/step - loss: 0.0596 - root_mean_squared_error: 0.0199 - val_loss: 0.4076 - val_root_mean_squared_error: 0.3394\n"
          ]
        }
      ]
    },
    {
      "cell_type": "code",
      "metadata": {
        "colab": {
          "base_uri": "https://localhost:8080/",
          "height": 281
        },
        "id": "0Vpkfpan_ygF",
        "outputId": "7aa132c6-45a8-48e3-9928-38675f30ec71"
      },
      "source": [
        "# Menampilkan hasil training\n",
        "plt.plot(history.history['root_mean_squared_error'])\n",
        "plt.plot(history.history['val_root_mean_squared_error'])\n",
        "\n",
        "plt.ylabel('RMSE')\n",
        "plt.xlabel('Epoch')\n",
        "plt.legend(['Train', 'Test'])\n",
        "plt.show()"
      ],
      "execution_count": 52,
      "outputs": [
        {
          "output_type": "display_data",
          "data": {
            "image/png": "[encoded data removed]",
            "text/plain": [
              "<Figure size 432x288 with 1 Axes>"
            ]
          },
          "metadata": {
            "needs_background": "light"
          }
        }
      ]
    },
    {
      "cell_type": "code",
      "metadata": {
        "id": "Om1wAvj6_33z",
        "colab": {
          "base_uri": "https://localhost:8080/"
        },
        "outputId": "3b9027cc-48d0-42b4-e96a-8adf944af2ee"
      },
      "source": [
        "# Mengambil sampel user\n",
        "user_id = df_sample.user_id.sample(1).iloc[0]\n",
        "read_book = df_sample[df_sample.user_id == user_id]\n",
        "\n",
        "unread_book = df_sample[~df_sample['ISBN'].isin(read_book.ISBN.values)]['ISBN'] \n",
        "unread_book = list(\n",
        "    set(unread_book)\n",
        "    .intersection(set(encoded_isbn.keys()))\n",
        ")\n",
        " \n",
        "unread_book = [[encoded_isbn.get(x)] for x in unread_book]\n",
        "user_encoder = encoded_user_id.get(user_id)\n",
        "user_book_array = np.hstack(\n",
        "    ([[user_encoder]] * len(unread_book), unread_book)\n",
        ")\n",
        "\n",
        "ratings = model.predict(user_book_array).flatten()\n",
        " \n",
        "top_ratings_indices = ratings.argsort()[-10:][::-1]\n",
        "recommended_isbn = [\n",
        "    isbn_encoded_to_isbn.get(unread_book[x][0]) for x in top_ratings_indices\n",
        "]\n",
        "# Menampilkan hasilnya\n",
        "print('Menampilkan rekomendasi untuk pembaca dengan User-ID: {}'.format(user_id))\n",
        "print('===' * 12)\n",
        "print('Buku yang diberikan nilai tinggi:')\n",
        " \n",
        "top_book_user = (\n",
        "    read_book.sort_values(\n",
        "        by = 'book_rating',\n",
        "        ascending=False\n",
        "    )\n",
        "    .head(5)\n",
        "    .ISBN.values\n",
        ")\n",
        " \n",
        "buku_df = df_sample[df_sample['ISBN'].isin(top_book_user)]\n",
        "for row in buku_df.itertuples():\n",
        "    print('-',row.book_title, ':', row.book_author)\n",
        "\n",
        "print('----' * 10)\n",
        "print('10 buku rekomendasi:')\n",
        "print('----' * 10)\n",
        " \n",
        "buku_rekomendasi = df_sample[df_sample['ISBN'].isin(recommended_isbn)]\n",
        "for row in buku_rekomendasi.itertuples():\n",
        "    print(row.book_title, ':', row.book_author)"
      ],
      "execution_count": 53,
      "outputs": [
        {
          "output_type": "stream",
          "name": "stdout",
          "text": [
            "Menampilkan rekomendasi untuk pembaca dengan User-ID: 88677\n",
            "====================================\n",
            "Buku yang diberikan nilai tinggi:\n",
            "- Friends And Lovers : Diana Palmer\n",
            "- GLORIOUS DESTINY (Tapestry Romance, No.71) : Janet Joyce\n",
            "- Heaven's Price : Sandra Brown\n",
            "- One Dark Night (Berkley Sensation) : Jaid Black\n",
            "- Shore Lights : Barbara Bretton\n",
            "----------------------------------------\n",
            "10 buku rekomendasi:\n",
            "----------------------------------------\n",
            "Cradle and All : James Patterson\n",
            "Jolie Blon's Bounce : A Novel : James Lee Burke\n",
            "Headhunter : Michael Slade\n",
            "Tara Road : Maeve Binchy\n",
            "Face the Fire (Three Sisters Island Trilogy) : Nora Roberts\n",
            "In the Time of the Butterflies : Julia Alvarez\n",
            "The Apprentice : Tess Gerritsen\n",
            "The Princess Bride: S Morgenstern's Classic Tale of True Love and High Adventure : WILLIAM GOLDMAN\n",
            "Three To Get Deadly : A Stephanie Plum Novel (A Stephanie Plum Novel) : Janet Evanovich\n",
            "The Notebook : Nicholas Sparks\n"
          ]
        }
      ]
    },
    {
      "cell_type": "markdown",
      "metadata": {
        "id": "YKI6e11kAnpz"
      },
      "source": [
        "# Evaluation"
      ]
    },
    {
      "cell_type": "markdown",
      "metadata": {
        "id": "pHxGhPJNwEjL"
      },
      "source": [
        "## 14) Evaluasi dengan Precision\n",
        "\n",
        "- *Precision* atau presisi adalah metriks evaluasi untuk mengukur pola positif yang diprediksi dengan benar dari total pola prediksi dalam kelas positif. Kelebihan presisi adalah mampu menilai prediksi model terhadap label data positif. Ini menghasilkan kelemahan presisi yang tidak mampu mengukur hasil label negatif.\n",
        "\n",
        "  ![precision](https://user-images.githubusercontent.com/68690376/139575828-21a60c1f-2373-4e0c-914b-ad7b81960601.png)\n",
        "  \n",
        "  Dengan catatan tp adalah *true positive* atau nilai label positif yang diprediksi benar dan fp adalah *false positive* atau nilai label negatif yang diprediksi salah.\n",
        "  \n",
        "  ![CBFresult](https://user-images.githubusercontent.com/68690376/139575267-9ca8e281-2384-4476-ae21-f426daf9d7f0.png)\n",
        "  \n",
        "  Hasil presisi dalam contoh sebelumnya bernilai tp = 4 dan fp = 1. Berarti *precision* bernilai:\n",
        "  \n",
        "  = 4/(4+1)\n",
        "  \n",
        "  = 4/5\n",
        "  \n",
        "  = 0.8 atau 80%"
      ]
    },
    {
      "cell_type": "markdown",
      "metadata": {
        "id": "Ibg8NhYLwOcS"
      },
      "source": [
        "## 15) Evaluasi dengan RMSE"
      ]
    },
    {
      "cell_type": "markdown",
      "metadata": {
        "id": "4o2_hY9RDuk8"
      },
      "source": [
        "RMSE yang baik adalah nilai RMSE < 10% skala data.\n",
        "\n",
        "Menggunakan nilai y yang telah dinormalisasi dari nilai book_rating, maka <10% skala data adalah:\n",
        "\n",
        "= (max_y - min_y) * 10%\n",
        "\n",
        "= (1 - 0) * 10%\n",
        "\n",
        "= 0.1"
      ]
    },
    {
      "cell_type": "code",
      "metadata": {
        "colab": {
          "base_uri": "https://localhost:8080/"
        },
        "id": "cg_urJ3EMB2D",
        "outputId": "0efaf657-ea35-434f-a889-c71dd9c566d5"
      },
      "source": [
        "# Mengambil nilai minimum dan maksimum y\n",
        "nilai_min_y = min(y)\n",
        "nilai_max_y = max(y)\n",
        "\n",
        "# Benchmark atau patokan nilai rmse pada data ini\n",
        "benchmark = (nilai_max_y - nilai_min_y) * 0.1\n",
        "\n",
        "# Nilai prediksi\n",
        "y_pred = model.predict(x_val)\n",
        "\n",
        "# Nilai RMSE dari prediksi\n",
        "rmse = mean_squared_error(y_val, y_pred, squared=False)\n",
        "\n",
        "# Menampilkan hasil\n",
        "print(\"Nilai min y = \", nilai_min_y)\n",
        "print(\"Nilai max y = \", nilai_max_y)\n",
        "print(\"Nilai benchmark = \", benchmark)\n",
        "print(\"Nilai RMSE = \", rmse)\n",
        "if(rmse < benchmark):\n",
        "  print(\"Nilai RMSE model sudah baik.\")\n",
        "else:\n",
        "  print(\"Nilai RMSE model belum cukup baik.\")"
      ],
      "execution_count": 54,
      "outputs": [
        {
          "output_type": "stream",
          "name": "stdout",
          "text": [
            "Nilai min y =  0.0\n",
            "Nilai max y =  1.0\n",
            "Nilai benchmark =  0.1\n",
            "Nilai RMSE =  0.33941833755097855\n",
            "Nilai RMSE model belum cukup baik.\n"
          ]
        }
      ]
    }
  ]
}